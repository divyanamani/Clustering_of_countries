{
 "cells": [
  {
   "cell_type": "code",
   "execution_count": null,
   "metadata": {},
   "outputs": [],
   "source": []
  },
  {
   "cell_type": "code",
   "execution_count": null,
   "metadata": {},
   "outputs": [],
   "source": []
  },
  {
   "cell_type": "markdown",
   "metadata": {},
   "source": [
    "## Clustering of Countries\n",
    "\n",
    "The problem statement aims to help an NGO to strategically plan and use the funds raised only for the poor nations.This requires clustering of countries on socio-economic and health factors and come up with the final list of poverty struck countries that are in dire need of aid.\n"
   ]
  },
  {
   "cell_type": "code",
   "execution_count": 1322,
   "metadata": {},
   "outputs": [],
   "source": [
    "# Importing required libraries - all at one place for better segregation of the code\n",
    "import pandas as pd\n",
    "import numpy as np\n",
    "import matplotlib.pyplot as plt\n",
    "import seaborn as sns\n",
    "\n",
    "from sklearn.preprocessing import StandardScaler\n",
    "from sklearn.decomposition import PCA\n",
    "from sklearn.cluster import KMeans\n",
    "from sklearn.metrics import silhouette_score\n",
    "from scipy.cluster.hierarchy import linkage,dendrogram,cut_tree"
   ]
  },
  {
   "cell_type": "code",
   "execution_count": 1323,
   "metadata": {},
   "outputs": [],
   "source": [
    "#reading the data into a dataframe\n",
    "df=pd.read_csv('Country-data.csv',encoding='iso-8859-1')"
   ]
  },
  {
   "cell_type": "markdown",
   "metadata": {},
   "source": [
    "### Data Analysis"
   ]
  },
  {
   "cell_type": "code",
   "execution_count": 1324,
   "metadata": {},
   "outputs": [
    {
     "data": {
      "text/html": [
       "<div>\n",
       "<style scoped>\n",
       "    .dataframe tbody tr th:only-of-type {\n",
       "        vertical-align: middle;\n",
       "    }\n",
       "\n",
       "    .dataframe tbody tr th {\n",
       "        vertical-align: top;\n",
       "    }\n",
       "\n",
       "    .dataframe thead th {\n",
       "        text-align: right;\n",
       "    }\n",
       "</style>\n",
       "<table border=\"1\" class=\"dataframe\">\n",
       "  <thead>\n",
       "    <tr style=\"text-align: right;\">\n",
       "      <th></th>\n",
       "      <th>country</th>\n",
       "      <th>child_mort</th>\n",
       "      <th>exports</th>\n",
       "      <th>health</th>\n",
       "      <th>imports</th>\n",
       "      <th>income</th>\n",
       "      <th>inflation</th>\n",
       "      <th>life_expec</th>\n",
       "      <th>total_fer</th>\n",
       "      <th>gdpp</th>\n",
       "    </tr>\n",
       "  </thead>\n",
       "  <tbody>\n",
       "    <tr>\n",
       "      <td>0</td>\n",
       "      <td>Afghanistan</td>\n",
       "      <td>90.2</td>\n",
       "      <td>10.0</td>\n",
       "      <td>7.58</td>\n",
       "      <td>44.9</td>\n",
       "      <td>1610</td>\n",
       "      <td>9.44</td>\n",
       "      <td>56.2</td>\n",
       "      <td>5.82</td>\n",
       "      <td>553</td>\n",
       "    </tr>\n",
       "    <tr>\n",
       "      <td>1</td>\n",
       "      <td>Albania</td>\n",
       "      <td>16.6</td>\n",
       "      <td>28.0</td>\n",
       "      <td>6.55</td>\n",
       "      <td>48.6</td>\n",
       "      <td>9930</td>\n",
       "      <td>4.49</td>\n",
       "      <td>76.3</td>\n",
       "      <td>1.65</td>\n",
       "      <td>4090</td>\n",
       "    </tr>\n",
       "    <tr>\n",
       "      <td>2</td>\n",
       "      <td>Algeria</td>\n",
       "      <td>27.3</td>\n",
       "      <td>38.4</td>\n",
       "      <td>4.17</td>\n",
       "      <td>31.4</td>\n",
       "      <td>12900</td>\n",
       "      <td>16.10</td>\n",
       "      <td>76.5</td>\n",
       "      <td>2.89</td>\n",
       "      <td>4460</td>\n",
       "    </tr>\n",
       "    <tr>\n",
       "      <td>3</td>\n",
       "      <td>Angola</td>\n",
       "      <td>119.0</td>\n",
       "      <td>62.3</td>\n",
       "      <td>2.85</td>\n",
       "      <td>42.9</td>\n",
       "      <td>5900</td>\n",
       "      <td>22.40</td>\n",
       "      <td>60.1</td>\n",
       "      <td>6.16</td>\n",
       "      <td>3530</td>\n",
       "    </tr>\n",
       "    <tr>\n",
       "      <td>4</td>\n",
       "      <td>Antigua and Barbuda</td>\n",
       "      <td>10.3</td>\n",
       "      <td>45.5</td>\n",
       "      <td>6.03</td>\n",
       "      <td>58.9</td>\n",
       "      <td>19100</td>\n",
       "      <td>1.44</td>\n",
       "      <td>76.8</td>\n",
       "      <td>2.13</td>\n",
       "      <td>12200</td>\n",
       "    </tr>\n",
       "  </tbody>\n",
       "</table>\n",
       "</div>"
      ],
      "text/plain": [
       "               country  child_mort  exports  health  imports  income  \\\n",
       "0          Afghanistan        90.2     10.0    7.58     44.9    1610   \n",
       "1              Albania        16.6     28.0    6.55     48.6    9930   \n",
       "2              Algeria        27.3     38.4    4.17     31.4   12900   \n",
       "3               Angola       119.0     62.3    2.85     42.9    5900   \n",
       "4  Antigua and Barbuda        10.3     45.5    6.03     58.9   19100   \n",
       "\n",
       "   inflation  life_expec  total_fer   gdpp  \n",
       "0       9.44        56.2       5.82    553  \n",
       "1       4.49        76.3       1.65   4090  \n",
       "2      16.10        76.5       2.89   4460  \n",
       "3      22.40        60.1       6.16   3530  \n",
       "4       1.44        76.8       2.13  12200  "
      ]
     },
     "execution_count": 1324,
     "metadata": {},
     "output_type": "execute_result"
    }
   ],
   "source": [
    "#glance of the data\n",
    "df.head() "
   ]
  },
  {
   "cell_type": "code",
   "execution_count": 1325,
   "metadata": {},
   "outputs": [
    {
     "name": "stdout",
     "output_type": "stream",
     "text": [
      "<class 'pandas.core.frame.DataFrame'>\n",
      "RangeIndex: 167 entries, 0 to 166\n",
      "Data columns (total 10 columns):\n",
      "country       167 non-null object\n",
      "child_mort    167 non-null float64\n",
      "exports       167 non-null float64\n",
      "health        167 non-null float64\n",
      "imports       167 non-null float64\n",
      "income        167 non-null int64\n",
      "inflation     167 non-null float64\n",
      "life_expec    167 non-null float64\n",
      "total_fer     167 non-null float64\n",
      "gdpp          167 non-null int64\n",
      "dtypes: float64(7), int64(2), object(1)\n",
      "memory usage: 13.2+ KB\n"
     ]
    }
   ],
   "source": [
    "# glance of the datatypes\n",
    "df.info()"
   ]
  },
  {
   "cell_type": "code",
   "execution_count": 1326,
   "metadata": {},
   "outputs": [
    {
     "data": {
      "text/plain": [
       "(167, 10)"
      ]
     },
     "execution_count": 1326,
     "metadata": {},
     "output_type": "execute_result"
    }
   ],
   "source": [
    "#shape\n",
    "df.shape"
   ]
  },
  {
   "cell_type": "code",
   "execution_count": 1327,
   "metadata": {},
   "outputs": [
    {
     "data": {
      "text/html": [
       "<div>\n",
       "<style scoped>\n",
       "    .dataframe tbody tr th:only-of-type {\n",
       "        vertical-align: middle;\n",
       "    }\n",
       "\n",
       "    .dataframe tbody tr th {\n",
       "        vertical-align: top;\n",
       "    }\n",
       "\n",
       "    .dataframe thead th {\n",
       "        text-align: right;\n",
       "    }\n",
       "</style>\n",
       "<table border=\"1\" class=\"dataframe\">\n",
       "  <thead>\n",
       "    <tr style=\"text-align: right;\">\n",
       "      <th></th>\n",
       "      <th>child_mort</th>\n",
       "      <th>exports</th>\n",
       "      <th>health</th>\n",
       "      <th>imports</th>\n",
       "      <th>income</th>\n",
       "      <th>inflation</th>\n",
       "      <th>life_expec</th>\n",
       "      <th>total_fer</th>\n",
       "      <th>gdpp</th>\n",
       "    </tr>\n",
       "  </thead>\n",
       "  <tbody>\n",
       "    <tr>\n",
       "      <td>count</td>\n",
       "      <td>167.000000</td>\n",
       "      <td>167.000000</td>\n",
       "      <td>167.000000</td>\n",
       "      <td>167.000000</td>\n",
       "      <td>167.000000</td>\n",
       "      <td>167.000000</td>\n",
       "      <td>167.000000</td>\n",
       "      <td>167.000000</td>\n",
       "      <td>167.000000</td>\n",
       "    </tr>\n",
       "    <tr>\n",
       "      <td>mean</td>\n",
       "      <td>38.270060</td>\n",
       "      <td>41.108976</td>\n",
       "      <td>6.815689</td>\n",
       "      <td>46.890215</td>\n",
       "      <td>17144.688623</td>\n",
       "      <td>7.781832</td>\n",
       "      <td>70.555689</td>\n",
       "      <td>2.947964</td>\n",
       "      <td>12964.155689</td>\n",
       "    </tr>\n",
       "    <tr>\n",
       "      <td>std</td>\n",
       "      <td>40.328931</td>\n",
       "      <td>27.412010</td>\n",
       "      <td>2.746837</td>\n",
       "      <td>24.209589</td>\n",
       "      <td>19278.067698</td>\n",
       "      <td>10.570704</td>\n",
       "      <td>8.893172</td>\n",
       "      <td>1.513848</td>\n",
       "      <td>18328.704809</td>\n",
       "    </tr>\n",
       "    <tr>\n",
       "      <td>min</td>\n",
       "      <td>2.600000</td>\n",
       "      <td>0.109000</td>\n",
       "      <td>1.810000</td>\n",
       "      <td>0.065900</td>\n",
       "      <td>609.000000</td>\n",
       "      <td>-4.210000</td>\n",
       "      <td>32.100000</td>\n",
       "      <td>1.150000</td>\n",
       "      <td>231.000000</td>\n",
       "    </tr>\n",
       "    <tr>\n",
       "      <td>25%</td>\n",
       "      <td>8.250000</td>\n",
       "      <td>23.800000</td>\n",
       "      <td>4.920000</td>\n",
       "      <td>30.200000</td>\n",
       "      <td>3355.000000</td>\n",
       "      <td>1.810000</td>\n",
       "      <td>65.300000</td>\n",
       "      <td>1.795000</td>\n",
       "      <td>1330.000000</td>\n",
       "    </tr>\n",
       "    <tr>\n",
       "      <td>50%</td>\n",
       "      <td>19.300000</td>\n",
       "      <td>35.000000</td>\n",
       "      <td>6.320000</td>\n",
       "      <td>43.300000</td>\n",
       "      <td>9960.000000</td>\n",
       "      <td>5.390000</td>\n",
       "      <td>73.100000</td>\n",
       "      <td>2.410000</td>\n",
       "      <td>4660.000000</td>\n",
       "    </tr>\n",
       "    <tr>\n",
       "      <td>75%</td>\n",
       "      <td>62.100000</td>\n",
       "      <td>51.350000</td>\n",
       "      <td>8.600000</td>\n",
       "      <td>58.750000</td>\n",
       "      <td>22800.000000</td>\n",
       "      <td>10.750000</td>\n",
       "      <td>76.800000</td>\n",
       "      <td>3.880000</td>\n",
       "      <td>14050.000000</td>\n",
       "    </tr>\n",
       "    <tr>\n",
       "      <td>max</td>\n",
       "      <td>208.000000</td>\n",
       "      <td>200.000000</td>\n",
       "      <td>17.900000</td>\n",
       "      <td>174.000000</td>\n",
       "      <td>125000.000000</td>\n",
       "      <td>104.000000</td>\n",
       "      <td>82.800000</td>\n",
       "      <td>7.490000</td>\n",
       "      <td>105000.000000</td>\n",
       "    </tr>\n",
       "  </tbody>\n",
       "</table>\n",
       "</div>"
      ],
      "text/plain": [
       "       child_mort     exports      health     imports         income  \\\n",
       "count  167.000000  167.000000  167.000000  167.000000     167.000000   \n",
       "mean    38.270060   41.108976    6.815689   46.890215   17144.688623   \n",
       "std     40.328931   27.412010    2.746837   24.209589   19278.067698   \n",
       "min      2.600000    0.109000    1.810000    0.065900     609.000000   \n",
       "25%      8.250000   23.800000    4.920000   30.200000    3355.000000   \n",
       "50%     19.300000   35.000000    6.320000   43.300000    9960.000000   \n",
       "75%     62.100000   51.350000    8.600000   58.750000   22800.000000   \n",
       "max    208.000000  200.000000   17.900000  174.000000  125000.000000   \n",
       "\n",
       "        inflation  life_expec   total_fer           gdpp  \n",
       "count  167.000000  167.000000  167.000000     167.000000  \n",
       "mean     7.781832   70.555689    2.947964   12964.155689  \n",
       "std     10.570704    8.893172    1.513848   18328.704809  \n",
       "min     -4.210000   32.100000    1.150000     231.000000  \n",
       "25%      1.810000   65.300000    1.795000    1330.000000  \n",
       "50%      5.390000   73.100000    2.410000    4660.000000  \n",
       "75%     10.750000   76.800000    3.880000   14050.000000  \n",
       "max    104.000000   82.800000    7.490000  105000.000000  "
      ]
     },
     "execution_count": 1327,
     "metadata": {},
     "output_type": "execute_result"
    }
   ],
   "source": [
    "#statistical view of the data\n",
    "df.describe()"
   ]
  },
  {
   "cell_type": "code",
   "execution_count": 1328,
   "metadata": {},
   "outputs": [
    {
     "data": {
      "text/plain": [
       "country       0.0\n",
       "child_mort    0.0\n",
       "exports       0.0\n",
       "health        0.0\n",
       "imports       0.0\n",
       "income        0.0\n",
       "inflation     0.0\n",
       "life_expec    0.0\n",
       "total_fer     0.0\n",
       "gdpp          0.0\n",
       "dtype: float64"
      ]
     },
     "execution_count": 1328,
     "metadata": {},
     "output_type": "execute_result"
    }
   ],
   "source": [
    "# missing values\n",
    "round(df.isnull().sum()/len(df))"
   ]
  },
  {
   "cell_type": "markdown",
   "metadata": {},
   "source": [
    "#### Observations:\n",
    "\n",
    "There are no missing values,no redundant columns"
   ]
  },
  {
   "cell_type": "markdown",
   "metadata": {},
   "source": [
    "### Outlier Analysis:"
   ]
  },
  {
   "cell_type": "code",
   "execution_count": 1329,
   "metadata": {},
   "outputs": [
    {
     "data": {
      "text/html": [
       "<div>\n",
       "<style scoped>\n",
       "    .dataframe tbody tr th:only-of-type {\n",
       "        vertical-align: middle;\n",
       "    }\n",
       "\n",
       "    .dataframe tbody tr th {\n",
       "        vertical-align: top;\n",
       "    }\n",
       "\n",
       "    .dataframe thead th {\n",
       "        text-align: right;\n",
       "    }\n",
       "</style>\n",
       "<table border=\"1\" class=\"dataframe\">\n",
       "  <thead>\n",
       "    <tr style=\"text-align: right;\">\n",
       "      <th></th>\n",
       "      <th>child_mort</th>\n",
       "      <th>exports</th>\n",
       "      <th>health</th>\n",
       "      <th>imports</th>\n",
       "      <th>income</th>\n",
       "      <th>inflation</th>\n",
       "      <th>life_expec</th>\n",
       "      <th>total_fer</th>\n",
       "      <th>gdpp</th>\n",
       "    </tr>\n",
       "  </thead>\n",
       "  <tbody>\n",
       "    <tr>\n",
       "      <td>count</td>\n",
       "      <td>167.000000</td>\n",
       "      <td>167.000000</td>\n",
       "      <td>167.000000</td>\n",
       "      <td>167.000000</td>\n",
       "      <td>167.000000</td>\n",
       "      <td>167.000000</td>\n",
       "      <td>167.000000</td>\n",
       "      <td>167.000000</td>\n",
       "      <td>167.000000</td>\n",
       "    </tr>\n",
       "    <tr>\n",
       "      <td>mean</td>\n",
       "      <td>38.270060</td>\n",
       "      <td>41.108976</td>\n",
       "      <td>6.815689</td>\n",
       "      <td>46.890215</td>\n",
       "      <td>17144.688623</td>\n",
       "      <td>7.781832</td>\n",
       "      <td>70.555689</td>\n",
       "      <td>2.947964</td>\n",
       "      <td>12964.155689</td>\n",
       "    </tr>\n",
       "    <tr>\n",
       "      <td>std</td>\n",
       "      <td>40.328931</td>\n",
       "      <td>27.412010</td>\n",
       "      <td>2.746837</td>\n",
       "      <td>24.209589</td>\n",
       "      <td>19278.067698</td>\n",
       "      <td>10.570704</td>\n",
       "      <td>8.893172</td>\n",
       "      <td>1.513848</td>\n",
       "      <td>18328.704809</td>\n",
       "    </tr>\n",
       "    <tr>\n",
       "      <td>min</td>\n",
       "      <td>2.600000</td>\n",
       "      <td>0.109000</td>\n",
       "      <td>1.810000</td>\n",
       "      <td>0.065900</td>\n",
       "      <td>609.000000</td>\n",
       "      <td>-4.210000</td>\n",
       "      <td>32.100000</td>\n",
       "      <td>1.150000</td>\n",
       "      <td>231.000000</td>\n",
       "    </tr>\n",
       "    <tr>\n",
       "      <td>5%</td>\n",
       "      <td>3.460000</td>\n",
       "      <td>12.120000</td>\n",
       "      <td>2.791000</td>\n",
       "      <td>18.130000</td>\n",
       "      <td>1213.000000</td>\n",
       "      <td>0.183400</td>\n",
       "      <td>55.780000</td>\n",
       "      <td>1.390000</td>\n",
       "      <td>465.900000</td>\n",
       "    </tr>\n",
       "    <tr>\n",
       "      <td>10%</td>\n",
       "      <td>4.200000</td>\n",
       "      <td>15.660000</td>\n",
       "      <td>3.726000</td>\n",
       "      <td>22.520000</td>\n",
       "      <td>1524.000000</td>\n",
       "      <td>0.587800</td>\n",
       "      <td>57.820000</td>\n",
       "      <td>1.452000</td>\n",
       "      <td>593.800000</td>\n",
       "    </tr>\n",
       "    <tr>\n",
       "      <td>25%</td>\n",
       "      <td>8.250000</td>\n",
       "      <td>23.800000</td>\n",
       "      <td>4.920000</td>\n",
       "      <td>30.200000</td>\n",
       "      <td>3355.000000</td>\n",
       "      <td>1.810000</td>\n",
       "      <td>65.300000</td>\n",
       "      <td>1.795000</td>\n",
       "      <td>1330.000000</td>\n",
       "    </tr>\n",
       "    <tr>\n",
       "      <td>50%</td>\n",
       "      <td>19.300000</td>\n",
       "      <td>35.000000</td>\n",
       "      <td>6.320000</td>\n",
       "      <td>43.300000</td>\n",
       "      <td>9960.000000</td>\n",
       "      <td>5.390000</td>\n",
       "      <td>73.100000</td>\n",
       "      <td>2.410000</td>\n",
       "      <td>4660.000000</td>\n",
       "    </tr>\n",
       "    <tr>\n",
       "      <td>75%</td>\n",
       "      <td>62.100000</td>\n",
       "      <td>51.350000</td>\n",
       "      <td>8.600000</td>\n",
       "      <td>58.750000</td>\n",
       "      <td>22800.000000</td>\n",
       "      <td>10.750000</td>\n",
       "      <td>76.800000</td>\n",
       "      <td>3.880000</td>\n",
       "      <td>14050.000000</td>\n",
       "    </tr>\n",
       "    <tr>\n",
       "      <td>90%</td>\n",
       "      <td>100.220000</td>\n",
       "      <td>70.800000</td>\n",
       "      <td>10.940000</td>\n",
       "      <td>75.420000</td>\n",
       "      <td>41220.000000</td>\n",
       "      <td>16.640000</td>\n",
       "      <td>80.400000</td>\n",
       "      <td>5.322000</td>\n",
       "      <td>41840.000000</td>\n",
       "    </tr>\n",
       "    <tr>\n",
       "      <td>95%</td>\n",
       "      <td>116.000000</td>\n",
       "      <td>80.570000</td>\n",
       "      <td>11.570000</td>\n",
       "      <td>81.140000</td>\n",
       "      <td>48290.000000</td>\n",
       "      <td>20.870000</td>\n",
       "      <td>81.400000</td>\n",
       "      <td>5.861000</td>\n",
       "      <td>48610.000000</td>\n",
       "    </tr>\n",
       "    <tr>\n",
       "      <td>99%</td>\n",
       "      <td>153.400000</td>\n",
       "      <td>160.480000</td>\n",
       "      <td>13.474000</td>\n",
       "      <td>146.080000</td>\n",
       "      <td>84374.000000</td>\n",
       "      <td>41.478000</td>\n",
       "      <td>82.370000</td>\n",
       "      <td>6.563600</td>\n",
       "      <td>79088.000000</td>\n",
       "    </tr>\n",
       "    <tr>\n",
       "      <td>max</td>\n",
       "      <td>208.000000</td>\n",
       "      <td>200.000000</td>\n",
       "      <td>17.900000</td>\n",
       "      <td>174.000000</td>\n",
       "      <td>125000.000000</td>\n",
       "      <td>104.000000</td>\n",
       "      <td>82.800000</td>\n",
       "      <td>7.490000</td>\n",
       "      <td>105000.000000</td>\n",
       "    </tr>\n",
       "  </tbody>\n",
       "</table>\n",
       "</div>"
      ],
      "text/plain": [
       "       child_mort     exports      health     imports         income  \\\n",
       "count  167.000000  167.000000  167.000000  167.000000     167.000000   \n",
       "mean    38.270060   41.108976    6.815689   46.890215   17144.688623   \n",
       "std     40.328931   27.412010    2.746837   24.209589   19278.067698   \n",
       "min      2.600000    0.109000    1.810000    0.065900     609.000000   \n",
       "5%       3.460000   12.120000    2.791000   18.130000    1213.000000   \n",
       "10%      4.200000   15.660000    3.726000   22.520000    1524.000000   \n",
       "25%      8.250000   23.800000    4.920000   30.200000    3355.000000   \n",
       "50%     19.300000   35.000000    6.320000   43.300000    9960.000000   \n",
       "75%     62.100000   51.350000    8.600000   58.750000   22800.000000   \n",
       "90%    100.220000   70.800000   10.940000   75.420000   41220.000000   \n",
       "95%    116.000000   80.570000   11.570000   81.140000   48290.000000   \n",
       "99%    153.400000  160.480000   13.474000  146.080000   84374.000000   \n",
       "max    208.000000  200.000000   17.900000  174.000000  125000.000000   \n",
       "\n",
       "        inflation  life_expec   total_fer           gdpp  \n",
       "count  167.000000  167.000000  167.000000     167.000000  \n",
       "mean     7.781832   70.555689    2.947964   12964.155689  \n",
       "std     10.570704    8.893172    1.513848   18328.704809  \n",
       "min     -4.210000   32.100000    1.150000     231.000000  \n",
       "5%       0.183400   55.780000    1.390000     465.900000  \n",
       "10%      0.587800   57.820000    1.452000     593.800000  \n",
       "25%      1.810000   65.300000    1.795000    1330.000000  \n",
       "50%      5.390000   73.100000    2.410000    4660.000000  \n",
       "75%     10.750000   76.800000    3.880000   14050.000000  \n",
       "90%     16.640000   80.400000    5.322000   41840.000000  \n",
       "95%     20.870000   81.400000    5.861000   48610.000000  \n",
       "99%     41.478000   82.370000    6.563600   79088.000000  \n",
       "max    104.000000   82.800000    7.490000  105000.000000  "
      ]
     },
     "execution_count": 1329,
     "metadata": {},
     "output_type": "execute_result"
    }
   ],
   "source": [
    "df.describe(percentiles=(0.05,0.1,0.25,0.5,0.75,0.9,0.95,0.99))"
   ]
  },
  {
   "cell_type": "markdown",
   "metadata": {},
   "source": [
    "#### Observations:\n",
    "\n",
    "There is a consistent increase of values between different percentiles(0.05,0.1,0.25,0.5,0.75,0.9,0.95,0.99) and a big difference between the 99th percentile data and the maximum value in all columns expect life_expec,total_fer.\n",
    "\n",
    "But from the business context,only the outliers that are above the upper boundary(99th percentile) from the columns - income,gdpp have been dropped as higher the values in these columns,the better position that a country is in.\n",
    "\n",
    "In contrary,the outliers in the other columns have been retained as they are required in arriving at countries that need aid.\n"
   ]
  },
  {
   "cell_type": "code",
   "execution_count": 1330,
   "metadata": {},
   "outputs": [
    {
     "name": "stdout",
     "output_type": "stream",
     "text": [
      "child_mort      153.4000\n",
      "exports         160.4800\n",
      "health           13.4740\n",
      "imports         146.0800\n",
      "income        84374.0000\n",
      "inflation        41.4780\n",
      "life_expec       82.3700\n",
      "total_fer         6.5636\n",
      "gdpp          79088.0000\n",
      "Name: 0.99, dtype: float64\n"
     ]
    }
   ],
   "source": [
    "#Q1=df.quantile(0.25)\n",
    "Q3=df.quantile(0.99)\n",
    "#IQR=Q3-Q1\n",
    "print(Q3)"
   ]
  },
  {
   "cell_type": "code",
   "execution_count": 1331,
   "metadata": {},
   "outputs": [
    {
     "data": {
      "text/plain": [
       "(167, 10)"
      ]
     },
     "execution_count": 1331,
     "metadata": {},
     "output_type": "execute_result"
    }
   ],
   "source": [
    "df.shape"
   ]
  },
  {
   "cell_type": "code",
   "execution_count": 1332,
   "metadata": {},
   "outputs": [],
   "source": [
    "df=df[df['income']!=125000]\n",
    "df=df[df['gdpp']!=105000]"
   ]
  },
  {
   "cell_type": "markdown",
   "metadata": {},
   "source": [
    "#### Correlation analysis"
   ]
  },
  {
   "cell_type": "code",
   "execution_count": 1333,
   "metadata": {},
   "outputs": [
    {
     "data": {
      "text/plain": [
       "<matplotlib.axes._subplots.AxesSubplot at 0x1973263acc8>"
      ]
     },
     "execution_count": 1333,
     "metadata": {},
     "output_type": "execute_result"
    },
    {
     "data": {
      "image/png": "[encoded data removed]",
      "text/plain": [
       "<Figure size 720x720 with 2 Axes>"
      ]
     },
     "metadata": {
      "needs_background": "light"
     },
     "output_type": "display_data"
    }
   ],
   "source": [
    "plt.figure(figsize=(10,10))\n",
    "sns.heatmap(df.corr(),annot=True)"
   ]
  },
  {
   "cell_type": "markdown",
   "metadata": {},
   "source": [
    "#### Observations:\n",
    "\n",
    "Highly correlated variables are:<br>\n",
    "\n",
    "income,gdpp<br>\n",
    "total_fer,child_mort<br>\n",
    "exports ,imports<br>\n",
    "\n",
    "Since PCA handles collinear variables,no column is manually dropped."
   ]
  },
  {
   "cell_type": "markdown",
   "metadata": {},
   "source": [
    "### Data Preprocessing"
   ]
  },
  {
   "cell_type": "markdown",
   "metadata": {},
   "source": [
    "#### Scaling the features"
   ]
  },
  {
   "cell_type": "code",
   "execution_count": 1334,
   "metadata": {},
   "outputs": [
    {
     "data": {
      "text/plain": [
       "0              Afghanistan\n",
       "1                  Albania\n",
       "2                  Algeria\n",
       "3                   Angola\n",
       "4      Antigua and Barbuda\n",
       "              ...         \n",
       "162                Vanuatu\n",
       "163              Venezuela\n",
       "164                Vietnam\n",
       "165                  Yemen\n",
       "166                 Zambia\n",
       "Name: country, Length: 165, dtype: object"
      ]
     },
     "execution_count": 1334,
     "metadata": {},
     "output_type": "execute_result"
    }
   ],
   "source": [
    "y_country=df.pop('country')\n",
    "y_country"
   ]
  },
  {
   "cell_type": "code",
   "execution_count": 1335,
   "metadata": {},
   "outputs": [
    {
     "data": {
      "text/html": [
       "<div>\n",
       "<style scoped>\n",
       "    .dataframe tbody tr th:only-of-type {\n",
       "        vertical-align: middle;\n",
       "    }\n",
       "\n",
       "    .dataframe tbody tr th {\n",
       "        vertical-align: top;\n",
       "    }\n",
       "\n",
       "    .dataframe thead th {\n",
       "        text-align: right;\n",
       "    }\n",
       "</style>\n",
       "<table border=\"1\" class=\"dataframe\">\n",
       "  <thead>\n",
       "    <tr style=\"text-align: right;\">\n",
       "      <th></th>\n",
       "      <th>child_mort</th>\n",
       "      <th>exports</th>\n",
       "      <th>health</th>\n",
       "      <th>imports</th>\n",
       "      <th>income</th>\n",
       "      <th>inflation</th>\n",
       "      <th>life_expec</th>\n",
       "      <th>total_fer</th>\n",
       "      <th>gdpp</th>\n",
       "    </tr>\n",
       "  </thead>\n",
       "  <tbody>\n",
       "    <tr>\n",
       "      <td>0</td>\n",
       "      <td>90.2</td>\n",
       "      <td>10.0</td>\n",
       "      <td>7.58</td>\n",
       "      <td>44.9</td>\n",
       "      <td>1610</td>\n",
       "      <td>9.44</td>\n",
       "      <td>56.2</td>\n",
       "      <td>5.82</td>\n",
       "      <td>553</td>\n",
       "    </tr>\n",
       "    <tr>\n",
       "      <td>1</td>\n",
       "      <td>16.6</td>\n",
       "      <td>28.0</td>\n",
       "      <td>6.55</td>\n",
       "      <td>48.6</td>\n",
       "      <td>9930</td>\n",
       "      <td>4.49</td>\n",
       "      <td>76.3</td>\n",
       "      <td>1.65</td>\n",
       "      <td>4090</td>\n",
       "    </tr>\n",
       "    <tr>\n",
       "      <td>2</td>\n",
       "      <td>27.3</td>\n",
       "      <td>38.4</td>\n",
       "      <td>4.17</td>\n",
       "      <td>31.4</td>\n",
       "      <td>12900</td>\n",
       "      <td>16.10</td>\n",
       "      <td>76.5</td>\n",
       "      <td>2.89</td>\n",
       "      <td>4460</td>\n",
       "    </tr>\n",
       "    <tr>\n",
       "      <td>3</td>\n",
       "      <td>119.0</td>\n",
       "      <td>62.3</td>\n",
       "      <td>2.85</td>\n",
       "      <td>42.9</td>\n",
       "      <td>5900</td>\n",
       "      <td>22.40</td>\n",
       "      <td>60.1</td>\n",
       "      <td>6.16</td>\n",
       "      <td>3530</td>\n",
       "    </tr>\n",
       "    <tr>\n",
       "      <td>4</td>\n",
       "      <td>10.3</td>\n",
       "      <td>45.5</td>\n",
       "      <td>6.03</td>\n",
       "      <td>58.9</td>\n",
       "      <td>19100</td>\n",
       "      <td>1.44</td>\n",
       "      <td>76.8</td>\n",
       "      <td>2.13</td>\n",
       "      <td>12200</td>\n",
       "    </tr>\n",
       "  </tbody>\n",
       "</table>\n",
       "</div>"
      ],
      "text/plain": [
       "   child_mort  exports  health  imports  income  inflation  life_expec  \\\n",
       "0        90.2     10.0    7.58     44.9    1610       9.44        56.2   \n",
       "1        16.6     28.0    6.55     48.6    9930       4.49        76.3   \n",
       "2        27.3     38.4    4.17     31.4   12900      16.10        76.5   \n",
       "3       119.0     62.3    2.85     42.9    5900      22.40        60.1   \n",
       "4        10.3     45.5    6.03     58.9   19100       1.44        76.8   \n",
       "\n",
       "   total_fer   gdpp  \n",
       "0       5.82    553  \n",
       "1       1.65   4090  \n",
       "2       2.89   4460  \n",
       "3       6.16   3530  \n",
       "4       2.13  12200  "
      ]
     },
     "execution_count": 1335,
     "metadata": {},
     "output_type": "execute_result"
    }
   ],
   "source": [
    "df.head()"
   ]
  },
  {
   "cell_type": "code",
   "execution_count": 1336,
   "metadata": {},
   "outputs": [
    {
     "data": {
      "text/plain": [
       "array([[ 1.27915582e+00, -1.18908695e+00,  2.71338484e-01, ...,\n",
       "        -1.60815031e+00,  1.88899809e+00, -7.05606532e-01],\n",
       "       [-5.47586454e-01, -4.79633374e-01, -1.06459118e-01, ...,\n",
       "         6.62360758e-01, -8.66466592e-01, -4.88697275e-01],\n",
       "       [-2.82013868e-01, -6.97268648e-02, -9.79428334e-01, ...,\n",
       "         6.84952908e-01, -4.70957992e-02, -4.66006739e-01],\n",
       "       ...,\n",
       "       [-3.81293340e-01,  1.25458647e+00, -8.89197062e-05, ...,\n",
       "         3.00886360e-01, -6.68231723e-01, -6.59182923e-01],\n",
       "       [ 4.37762300e-01, -4.00805199e-01, -6.08966608e-01, ...,\n",
       "        -3.31693837e-01,  1.12909776e+00, -6.59182923e-01],\n",
       "       [ 1.10293476e+00, -1.24906587e-01, -3.48543019e-01, ...,\n",
       "        -2.08258545e+00,  1.61146927e+00, -6.49984057e-01]])"
      ]
     },
     "execution_count": 1336,
     "metadata": {},
     "output_type": "execute_result"
    }
   ],
   "source": [
    "scaler = StandardScaler()\n",
    "df.head()\n",
    "\n",
    "scaled_df=scaler.fit_transform(df)\n",
    "scaled_df"
   ]
  },
  {
   "cell_type": "markdown",
   "metadata": {},
   "source": [
    "### PCA"
   ]
  },
  {
   "cell_type": "code",
   "execution_count": 1337,
   "metadata": {},
   "outputs": [],
   "source": [
    "pca = PCA(random_state=100)"
   ]
  },
  {
   "cell_type": "code",
   "execution_count": 1338,
   "metadata": {},
   "outputs": [
    {
     "data": {
      "text/plain": [
       "PCA(copy=True, iterated_power='auto', n_components=None, random_state=100,\n",
       "    svd_solver='auto', tol=0.0, whiten=False)"
      ]
     },
     "execution_count": 1338,
     "metadata": {},
     "output_type": "execute_result"
    }
   ],
   "source": [
    "pca.fit(scaled_df)"
   ]
  },
  {
   "cell_type": "code",
   "execution_count": 1339,
   "metadata": {},
   "outputs": [
    {
     "data": {
      "text/plain": [
       "array([[-0.42419524,  0.25283934,  0.17433631,  0.1285445 ,  0.40908329,\n",
       "        -0.19415806,  0.43006947, -0.40806479,  0.39075658],\n",
       "       [ 0.09299362,  0.6187954 , -0.25507413,  0.69272775, -0.04948555,\n",
       "        -0.07290727, -0.15536888,  0.05562027, -0.16885645],\n",
       "       [-0.12477783,  0.17705973, -0.65130457, -0.26331196,  0.18272196,\n",
       "         0.62491638,  0.17086697, -0.07714906, -0.02223102],\n",
       "       [ 0.37416373,  0.17826988,  0.30151276,  0.01337584,  0.42539511,\n",
       "         0.3407132 , -0.20415358,  0.38366294,  0.50120861],\n",
       "       [-0.19946553, -0.00928735,  0.54154878,  0.26619576, -0.2636476 ,\n",
       "         0.65800436,  0.10759948, -0.16864542, -0.23128611],\n",
       "       [ 0.20944156, -0.04174657, -0.00318201, -0.04525528,  0.155006  ,\n",
       "         0.05882203, -0.60251282, -0.74932755,  0.01824648],\n",
       "       [ 0.0014791 , -0.66501917, -0.29780398,  0.5896154 ,  0.03340244,\n",
       "         0.11332149,  0.04967806, -0.01313776,  0.32375268],\n",
       "       [ 0.71466433,  0.08622798, -0.01188666, -0.02022029, -0.28995783,\n",
       "         0.0026652 ,  0.54061636, -0.29498671,  0.13380442],\n",
       "       [ 0.24787702, -0.19626365,  0.08557309,  0.11458219,  0.66115471,\n",
       "        -0.03320498,  0.22515163,  0.01083832, -0.62493751]])"
      ]
     },
     "execution_count": 1339,
     "metadata": {},
     "output_type": "execute_result"
    }
   ],
   "source": [
    "pca.components_"
   ]
  },
  {
   "cell_type": "code",
   "execution_count": 1340,
   "metadata": {},
   "outputs": [
    {
     "data": {
      "text/plain": [
       "array([0.46240985, 0.176606  , 0.12728703, 0.1083954 , 0.06970008,\n",
       "       0.02498896, 0.01377418, 0.0096064 , 0.0072321 ])"
      ]
     },
     "execution_count": 1340,
     "metadata": {},
     "output_type": "execute_result"
    }
   ],
   "source": [
    "pca.explained_variance_ratio_"
   ]
  },
  {
   "cell_type": "code",
   "execution_count": 1341,
   "metadata": {},
   "outputs": [
    {
     "data": {
      "text/plain": [
       "array([0.46240985, 0.63901585, 0.76630288, 0.87469828, 0.94439836,\n",
       "       0.96938732, 0.9831615 , 0.9927679 , 1.        ])"
      ]
     },
     "execution_count": 1341,
     "metadata": {},
     "output_type": "execute_result"
    }
   ],
   "source": [
    "cumsum_variance=np.cumsum(pca.explained_variance_ratio_)\n",
    "cumsum_variance"
   ]
  },
  {
   "cell_type": "markdown",
   "metadata": {},
   "source": [
    "#### Plotting the Scree plot"
   ]
  },
  {
   "cell_type": "code",
   "execution_count": 1342,
   "metadata": {},
   "outputs": [
    {
     "data": {
      "text/plain": [
       "Text(0, 0.5, 'Cumulative variance')"
      ]
     },
     "execution_count": 1342,
     "metadata": {},
     "output_type": "execute_result"
    },
    {
     "data": {
      "image/png": "[encoded data removed]",
      "text/plain": [
       "<Figure size 432x288 with 1 Axes>"
      ]
     },
     "metadata": {
      "needs_background": "light"
     },
     "output_type": "display_data"
    }
   ],
   "source": [
    "plt.plot(range(1,len(cumsum_variance)+1),cumsum_variance)\n",
    "plt.xlabel('No.of Principal components')\n",
    "plt.ylabel('Cumulative variance')"
   ]
  },
  {
   "cell_type": "markdown",
   "metadata": {},
   "source": [
    "#### since 90% variance is being explained by 5 principal components and as there is no much steep change after that,cosidering 5 PCs for clustering"
   ]
  },
  {
   "cell_type": "code",
   "execution_count": 1343,
   "metadata": {},
   "outputs": [],
   "source": [
    "final_pcs=PCA(n_components=5,random_state=100)"
   ]
  },
  {
   "cell_type": "code",
   "execution_count": 1344,
   "metadata": {},
   "outputs": [],
   "source": [
    "pca_data=final_pcs.fit_transform(scaled_df)"
   ]
  },
  {
   "cell_type": "code",
   "execution_count": 1345,
   "metadata": {},
   "outputs": [],
   "source": [
    "pca_df=pd.DataFrame(pca_data,columns=['PC1','PC2','PC3','PC4','PC5'])"
   ]
  },
  {
   "cell_type": "code",
   "execution_count": 1346,
   "metadata": {},
   "outputs": [
    {
     "data": {
      "text/html": [
       "<div>\n",
       "<style scoped>\n",
       "    .dataframe tbody tr th:only-of-type {\n",
       "        vertical-align: middle;\n",
       "    }\n",
       "\n",
       "    .dataframe tbody tr th {\n",
       "        vertical-align: top;\n",
       "    }\n",
       "\n",
       "    .dataframe thead th {\n",
       "        text-align: right;\n",
       "    }\n",
       "</style>\n",
       "<table border=\"1\" class=\"dataframe\">\n",
       "  <thead>\n",
       "    <tr style=\"text-align: right;\">\n",
       "      <th></th>\n",
       "      <th>PC1</th>\n",
       "      <th>PC2</th>\n",
       "      <th>PC3</th>\n",
       "      <th>PC4</th>\n",
       "      <th>PC5</th>\n",
       "    </tr>\n",
       "  </thead>\n",
       "  <tbody>\n",
       "    <tr>\n",
       "      <td>0</td>\n",
       "      <td>-2.932859</td>\n",
       "      <td>-0.226304</td>\n",
       "      <td>-0.998855</td>\n",
       "      <td>0.724676</td>\n",
       "      <td>-0.110254</td>\n",
       "    </tr>\n",
       "    <tr>\n",
       "      <td>1</td>\n",
       "      <td>0.460234</td>\n",
       "      <td>-0.283346</td>\n",
       "      <td>-0.044902</td>\n",
       "      <td>-1.299243</td>\n",
       "      <td>0.303274</td>\n",
       "    </tr>\n",
       "    <tr>\n",
       "      <td>2</td>\n",
       "      <td>-0.251213</td>\n",
       "      <td>-0.349803</td>\n",
       "      <td>1.417455</td>\n",
       "      <td>-0.628499</td>\n",
       "      <td>0.107204</td>\n",
       "    </tr>\n",
       "    <tr>\n",
       "      <td>3</td>\n",
       "      <td>-2.989712</td>\n",
       "      <td>1.309269</td>\n",
       "      <td>1.295702</td>\n",
       "      <td>1.451150</td>\n",
       "      <td>-0.531672</td>\n",
       "    </tr>\n",
       "    <tr>\n",
       "      <td>4</td>\n",
       "      <td>1.099167</td>\n",
       "      <td>0.405267</td>\n",
       "      <td>-0.000160</td>\n",
       "      <td>-0.786875</td>\n",
       "      <td>-0.155663</td>\n",
       "    </tr>\n",
       "  </tbody>\n",
       "</table>\n",
       "</div>"
      ],
      "text/plain": [
       "        PC1       PC2       PC3       PC4       PC5\n",
       "0 -2.932859 -0.226304 -0.998855  0.724676 -0.110254\n",
       "1  0.460234 -0.283346 -0.044902 -1.299243  0.303274\n",
       "2 -0.251213 -0.349803  1.417455 -0.628499  0.107204\n",
       "3 -2.989712  1.309269  1.295702  1.451150 -0.531672\n",
       "4  1.099167  0.405267 -0.000160 -0.786875 -0.155663"
      ]
     },
     "execution_count": 1346,
     "metadata": {},
     "output_type": "execute_result"
    }
   ],
   "source": [
    "pca_df.head()"
   ]
  },
  {
   "cell_type": "markdown",
   "metadata": {},
   "source": [
    "### Hopkins statistic for cluster tendency"
   ]
  },
  {
   "cell_type": "code",
   "execution_count": 1347,
   "metadata": {},
   "outputs": [],
   "source": [
    "## Using the reusable block of code from session.\n",
    "from sklearn.neighbors import NearestNeighbors\n",
    "from random import sample\n",
    "from numpy.random import uniform\n",
    "import numpy as np\n",
    "from math import isnan\n",
    " \n",
    "def hopkins(X):\n",
    "    d = X.shape[1]\n",
    "    #d = len(vars) # columns\n",
    "    n = len(X) # rows\n",
    "    m = int(0.1 * n) \n",
    "    nbrs = NearestNeighbors(n_neighbors=1).fit(X.values)\n",
    " \n",
    "    rand_X = sample(range(0, n, 1), m)\n",
    " \n",
    "    ujd = []\n",
    "    wjd = []\n",
    "    for j in range(0, m):\n",
    "        u_dist, _ = nbrs.kneighbors(uniform(np.amin(X,axis=0),np.amax(X,axis=0),d).reshape(1, -1), 2, return_distance=True)\n",
    "        ujd.append(u_dist[0][1])\n",
    "        w_dist, _ = nbrs.kneighbors(X.iloc[rand_X[j]].values.reshape(1, -1), 2, return_distance=True)\n",
    "        wjd.append(w_dist[0][1])\n",
    " \n",
    "    H = sum(ujd) / (sum(ujd) + sum(wjd))\n",
    "    if isnan(H):\n",
    "        print(ujd, wjd)\n",
    "        H = 0\n",
    " \n",
    "    return H"
   ]
  },
  {
   "cell_type": "code",
   "execution_count": 1348,
   "metadata": {},
   "outputs": [
    {
     "data": {
      "text/html": [
       "<div>\n",
       "<style scoped>\n",
       "    .dataframe tbody tr th:only-of-type {\n",
       "        vertical-align: middle;\n",
       "    }\n",
       "\n",
       "    .dataframe tbody tr th {\n",
       "        vertical-align: top;\n",
       "    }\n",
       "\n",
       "    .dataframe thead th {\n",
       "        text-align: right;\n",
       "    }\n",
       "</style>\n",
       "<table border=\"1\" class=\"dataframe\">\n",
       "  <thead>\n",
       "    <tr style=\"text-align: right;\">\n",
       "      <th></th>\n",
       "      <th>0</th>\n",
       "      <th>1</th>\n",
       "      <th>2</th>\n",
       "      <th>3</th>\n",
       "      <th>4</th>\n",
       "      <th>5</th>\n",
       "      <th>6</th>\n",
       "      <th>7</th>\n",
       "      <th>8</th>\n",
       "    </tr>\n",
       "  </thead>\n",
       "  <tbody>\n",
       "    <tr>\n",
       "      <td>0</td>\n",
       "      <td>1.279156</td>\n",
       "      <td>-1.189087</td>\n",
       "      <td>0.271338</td>\n",
       "      <td>-0.067400</td>\n",
       "      <td>-0.880606</td>\n",
       "      <td>0.153629</td>\n",
       "      <td>-1.608150</td>\n",
       "      <td>1.888998</td>\n",
       "      <td>-0.705607</td>\n",
       "    </tr>\n",
       "    <tr>\n",
       "      <td>1</td>\n",
       "      <td>-0.547586</td>\n",
       "      <td>-0.479633</td>\n",
       "      <td>-0.106459</td>\n",
       "      <td>0.093104</td>\n",
       "      <td>-0.372840</td>\n",
       "      <td>-0.313462</td>\n",
       "      <td>0.662361</td>\n",
       "      <td>-0.866467</td>\n",
       "      <td>-0.488697</td>\n",
       "    </tr>\n",
       "    <tr>\n",
       "      <td>2</td>\n",
       "      <td>-0.282014</td>\n",
       "      <td>-0.069727</td>\n",
       "      <td>-0.979428</td>\n",
       "      <td>-0.653024</td>\n",
       "      <td>-0.191582</td>\n",
       "      <td>0.782079</td>\n",
       "      <td>0.684953</td>\n",
       "      <td>-0.047096</td>\n",
       "      <td>-0.466007</td>\n",
       "    </tr>\n",
       "    <tr>\n",
       "      <td>3</td>\n",
       "      <td>1.993968</td>\n",
       "      <td>0.872270</td>\n",
       "      <td>-1.463596</td>\n",
       "      <td>-0.154159</td>\n",
       "      <td>-0.618789</td>\n",
       "      <td>1.376558</td>\n",
       "      <td>-1.167603</td>\n",
       "      <td>2.113664</td>\n",
       "      <td>-0.523040</td>\n",
       "    </tr>\n",
       "    <tr>\n",
       "      <td>4</td>\n",
       "      <td>-0.703952</td>\n",
       "      <td>0.210113</td>\n",
       "      <td>-0.297192</td>\n",
       "      <td>0.539913</td>\n",
       "      <td>0.186801</td>\n",
       "      <td>-0.601265</td>\n",
       "      <td>0.718841</td>\n",
       "      <td>-0.549291</td>\n",
       "      <td>0.008655</td>\n",
       "    </tr>\n",
       "    <tr>\n",
       "      <td>...</td>\n",
       "      <td>...</td>\n",
       "      <td>...</td>\n",
       "      <td>...</td>\n",
       "      <td>...</td>\n",
       "      <td>...</td>\n",
       "      <td>...</td>\n",
       "      <td>...</td>\n",
       "      <td>...</td>\n",
       "      <td>...</td>\n",
       "    </tr>\n",
       "    <tr>\n",
       "      <td>160</td>\n",
       "      <td>-0.234856</td>\n",
       "      <td>0.253469</td>\n",
       "      <td>-0.583291</td>\n",
       "      <td>0.270960</td>\n",
       "      <td>-0.798826</td>\n",
       "      <td>-0.489918</td>\n",
       "      <td>-0.840017</td>\n",
       "      <td>0.355982</td>\n",
       "      <td>-0.557382</td>\n",
       "    </tr>\n",
       "    <tr>\n",
       "      <td>161</td>\n",
       "      <td>-0.535177</td>\n",
       "      <td>-0.459926</td>\n",
       "      <td>-0.708001</td>\n",
       "      <td>-1.251661</td>\n",
       "      <td>0.028124</td>\n",
       "      <td>3.594060</td>\n",
       "      <td>0.560696</td>\n",
       "      <td>-0.324625</td>\n",
       "      <td>0.088378</td>\n",
       "    </tr>\n",
       "    <tr>\n",
       "      <td>162</td>\n",
       "      <td>-0.381293</td>\n",
       "      <td>1.254586</td>\n",
       "      <td>-0.000089</td>\n",
       "      <td>1.463897</td>\n",
       "      <td>-0.704841</td>\n",
       "      <td>0.404631</td>\n",
       "      <td>0.300886</td>\n",
       "      <td>-0.668232</td>\n",
       "      <td>-0.659183</td>\n",
       "    </tr>\n",
       "    <tr>\n",
       "      <td>163</td>\n",
       "      <td>0.437762</td>\n",
       "      <td>-0.400805</td>\n",
       "      <td>-0.608967</td>\n",
       "      <td>-0.522885</td>\n",
       "      <td>-0.705451</td>\n",
       "      <td>1.489792</td>\n",
       "      <td>-0.331694</td>\n",
       "      <td>1.129098</td>\n",
       "      <td>-0.659183</td>\n",
       "    </tr>\n",
       "    <tr>\n",
       "      <td>164</td>\n",
       "      <td>1.102935</td>\n",
       "      <td>-0.124907</td>\n",
       "      <td>-0.348543</td>\n",
       "      <td>-0.674713</td>\n",
       "      <td>-0.778687</td>\n",
       "      <td>0.583919</td>\n",
       "      <td>-2.082585</td>\n",
       "      <td>1.611469</td>\n",
       "      <td>-0.649984</td>\n",
       "    </tr>\n",
       "  </tbody>\n",
       "</table>\n",
       "<p>165 rows × 9 columns</p>\n",
       "</div>"
      ],
      "text/plain": [
       "            0         1         2         3         4         5         6  \\\n",
       "0    1.279156 -1.189087  0.271338 -0.067400 -0.880606  0.153629 -1.608150   \n",
       "1   -0.547586 -0.479633 -0.106459  0.093104 -0.372840 -0.313462  0.662361   \n",
       "2   -0.282014 -0.069727 -0.979428 -0.653024 -0.191582  0.782079  0.684953   \n",
       "3    1.993968  0.872270 -1.463596 -0.154159 -0.618789  1.376558 -1.167603   \n",
       "4   -0.703952  0.210113 -0.297192  0.539913  0.186801 -0.601265  0.718841   \n",
       "..        ...       ...       ...       ...       ...       ...       ...   \n",
       "160 -0.234856  0.253469 -0.583291  0.270960 -0.798826 -0.489918 -0.840017   \n",
       "161 -0.535177 -0.459926 -0.708001 -1.251661  0.028124  3.594060  0.560696   \n",
       "162 -0.381293  1.254586 -0.000089  1.463897 -0.704841  0.404631  0.300886   \n",
       "163  0.437762 -0.400805 -0.608967 -0.522885 -0.705451  1.489792 -0.331694   \n",
       "164  1.102935 -0.124907 -0.348543 -0.674713 -0.778687  0.583919 -2.082585   \n",
       "\n",
       "            7         8  \n",
       "0    1.888998 -0.705607  \n",
       "1   -0.866467 -0.488697  \n",
       "2   -0.047096 -0.466007  \n",
       "3    2.113664 -0.523040  \n",
       "4   -0.549291  0.008655  \n",
       "..        ...       ...  \n",
       "160  0.355982 -0.557382  \n",
       "161 -0.324625  0.088378  \n",
       "162 -0.668232 -0.659183  \n",
       "163  1.129098 -0.659183  \n",
       "164  1.611469 -0.649984  \n",
       "\n",
       "[165 rows x 9 columns]"
      ]
     },
     "execution_count": 1348,
     "metadata": {},
     "output_type": "execute_result"
    }
   ],
   "source": [
    "hop_df=pd.DataFrame(scaled_df)\n",
    "hop_df"
   ]
  },
  {
   "cell_type": "code",
   "execution_count": 1349,
   "metadata": {},
   "outputs": [
    {
     "data": {
      "text/plain": [
       "0.8771559686890116"
      ]
     },
     "execution_count": 1349,
     "metadata": {},
     "output_type": "execute_result"
    }
   ],
   "source": [
    "hopk=hopkins(hop_df)\n",
    "hopk"
   ]
  },
  {
   "cell_type": "markdown",
   "metadata": {},
   "source": [
    "#### Observation: \n",
    "\n",
    "Since the Hopkins value is 0.88 which is between 0.7 and 0.99,the data has high tendency for clustering and thus we can proceed with clustering.\n",
    "\n"
   ]
  },
  {
   "cell_type": "markdown",
   "metadata": {},
   "source": [
    "### Finding the ideal number of clusters\n",
    "\n",
    "Running elbow curve and silhouette score method on the data and observing the optimal number of clusters.\n",
    "\n",
    "The list \"ss_distance\" holds the sum of squared distances of the data points.<br>\n",
    "The list \"silhoutte_score\" holds the silhouette factor for the data points."
   ]
  },
  {
   "cell_type": "code",
   "execution_count": 1350,
   "metadata": {},
   "outputs": [],
   "source": [
    "ss_distance=[]\n",
    "silhoutte_score=[]\n",
    "clusters=range(2,7)\n",
    "for k in clusters:\n",
    "    kmns=KMeans(n_clusters=k)\n",
    "    kmns=kmns.fit(pca_df)\n",
    "    clus_ids=kmns.labels_\n",
    "    silhoutte_score.append(silhouette_score(pca_df,clus_ids))\n",
    "    #print(silhoutte_score)\n",
    "    ss_distance.append(kmns.inertia_)"
   ]
  },
  {
   "cell_type": "code",
   "execution_count": 1351,
   "metadata": {},
   "outputs": [
    {
     "data": {
      "text/plain": [
       "Text(0, 0.5, 'Sum of squared distance')"
      ]
     },
     "execution_count": 1351,
     "metadata": {},
     "output_type": "execute_result"
    },
    {
     "data": {
      "image/png": "[encoded data removed]",
      "text/plain": [
       "<Figure size 432x288 with 1 Axes>"
      ]
     },
     "metadata": {
      "needs_background": "light"
     },
     "output_type": "display_data"
    }
   ],
   "source": [
    "ss_distance\n",
    "plt.plot(clusters,ss_distance)\n",
    "plt.xlabel('Clusters 2-6')\n",
    "plt.ylabel('Sum of squared distance')\n"
   ]
  },
  {
   "cell_type": "code",
   "execution_count": 1352,
   "metadata": {},
   "outputs": [
    {
     "data": {
      "text/plain": [
       "Text(0, 0.5, 'Silhouette score')"
      ]
     },
     "execution_count": 1352,
     "metadata": {},
     "output_type": "execute_result"
    },
    {
     "data": {
      "image/png": "[encoded data removed]",
      "text/plain": [
       "<Figure size 432x288 with 1 Axes>"
      ]
     },
     "metadata": {
      "needs_background": "light"
     },
     "output_type": "display_data"
    }
   ],
   "source": [
    "plt.plot(clusters,silhoutte_score)\n",
    "silhoutte_score\n",
    "plt.xlabel('Clusters 2-6')\n",
    "plt.ylabel('Silhouette score')\n"
   ]
  },
  {
   "cell_type": "markdown",
   "metadata": {},
   "source": [
    "#### Observation:\n",
    "\n",
    "From the above graphs,<br>\n",
    "elbow curve suggests 3 as the optimal number of clusters.<br>\n",
    "silhouette score plot suggests 5 as the optimal number of clusters.<br>\n",
    "\n",
    "Hence, clustering the data with both the values of k's(3 and 5) and considering the final one based on the outcome."
   ]
  },
  {
   "cell_type": "markdown",
   "metadata": {},
   "source": [
    "### K-Means with 5 clusters"
   ]
  },
  {
   "cell_type": "code",
   "execution_count": 1353,
   "metadata": {},
   "outputs": [],
   "source": [
    "kmeans=KMeans(n_clusters=5,random_state=100)"
   ]
  },
  {
   "cell_type": "code",
   "execution_count": 1354,
   "metadata": {},
   "outputs": [
    {
     "data": {
      "text/plain": [
       "KMeans(algorithm='auto', copy_x=True, init='k-means++', max_iter=300,\n",
       "       n_clusters=5, n_init=10, n_jobs=None, precompute_distances='auto',\n",
       "       random_state=100, tol=0.0001, verbose=0)"
      ]
     },
     "execution_count": 1354,
     "metadata": {},
     "output_type": "execute_result"
    }
   ],
   "source": [
    "kmeans.fit(pca_df)"
   ]
  },
  {
   "cell_type": "code",
   "execution_count": 1355,
   "metadata": {},
   "outputs": [
    {
     "data": {
      "text/plain": [
       "array([4, 2, 0, 4, 2, 0, 0, 3, 3, 0, 2, 2, 0, 2, 2, 3, 2, 4, 2, 0, 2, 0,\n",
       "       0, 3, 2, 4, 4, 2, 4, 3, 2, 4, 4, 2, 0, 0, 4, 4, 4, 2, 4, 2, 3, 2,\n",
       "       3, 0, 0, 0, 2, 4, 0, 2, 2, 3, 3, 0, 4, 2, 3, 4, 3, 2, 0, 4, 4, 2,\n",
       "       4, 2, 3, 0, 0, 0, 0, 3, 3, 3, 0, 3, 2, 0, 4, 4, 3, 2, 0, 2, 2, 4,\n",
       "       4, 2, 2, 2, 4, 4, 2, 2, 4, 1, 4, 2, 2, 2, 0, 2, 0, 4, 0, 4, 0, 3,\n",
       "       3, 4, 4, 3, 2, 0, 2, 2, 0, 0, 2, 3, 2, 0, 4, 0, 0, 4, 2, 2, 4, 1,\n",
       "       2, 2, 2, 0, 2, 3, 0, 2, 4, 2, 3, 3, 0, 4, 2, 4, 4, 0, 2, 0, 0, 4,\n",
       "       2, 3, 3, 3, 0, 0, 0, 0, 2, 0, 4])"
      ]
     },
     "execution_count": 1355,
     "metadata": {},
     "output_type": "execute_result"
    }
   ],
   "source": [
    "kmeans.labels_"
   ]
  },
  {
   "cell_type": "code",
   "execution_count": 1356,
   "metadata": {},
   "outputs": [],
   "source": [
    "pca_df['cluster_id_km_5']=kmeans.labels_\n",
    "#pca_df_cluster=pca_df\n",
    "#pca_df['cluster_id']=kmeans.labels_"
   ]
  },
  {
   "cell_type": "code",
   "execution_count": 1357,
   "metadata": {},
   "outputs": [
    {
     "data": {
      "text/html": [
       "<div>\n",
       "<style scoped>\n",
       "    .dataframe tbody tr th:only-of-type {\n",
       "        vertical-align: middle;\n",
       "    }\n",
       "\n",
       "    .dataframe tbody tr th {\n",
       "        vertical-align: top;\n",
       "    }\n",
       "\n",
       "    .dataframe thead th {\n",
       "        text-align: right;\n",
       "    }\n",
       "</style>\n",
       "<table border=\"1\" class=\"dataframe\">\n",
       "  <thead>\n",
       "    <tr style=\"text-align: right;\">\n",
       "      <th></th>\n",
       "      <th>PC1</th>\n",
       "      <th>PC2</th>\n",
       "      <th>PC3</th>\n",
       "      <th>PC4</th>\n",
       "      <th>PC5</th>\n",
       "      <th>cluster_id_km_5</th>\n",
       "    </tr>\n",
       "  </thead>\n",
       "  <tbody>\n",
       "    <tr>\n",
       "      <td>0</td>\n",
       "      <td>-2.932859</td>\n",
       "      <td>-0.226304</td>\n",
       "      <td>-0.998855</td>\n",
       "      <td>0.724676</td>\n",
       "      <td>-0.110254</td>\n",
       "      <td>4</td>\n",
       "    </tr>\n",
       "    <tr>\n",
       "      <td>1</td>\n",
       "      <td>0.460234</td>\n",
       "      <td>-0.283346</td>\n",
       "      <td>-0.044902</td>\n",
       "      <td>-1.299243</td>\n",
       "      <td>0.303274</td>\n",
       "      <td>2</td>\n",
       "    </tr>\n",
       "    <tr>\n",
       "      <td>2</td>\n",
       "      <td>-0.251213</td>\n",
       "      <td>-0.349803</td>\n",
       "      <td>1.417455</td>\n",
       "      <td>-0.628499</td>\n",
       "      <td>0.107204</td>\n",
       "      <td>0</td>\n",
       "    </tr>\n",
       "    <tr>\n",
       "      <td>3</td>\n",
       "      <td>-2.989712</td>\n",
       "      <td>1.309269</td>\n",
       "      <td>1.295702</td>\n",
       "      <td>1.451150</td>\n",
       "      <td>-0.531672</td>\n",
       "      <td>4</td>\n",
       "    </tr>\n",
       "    <tr>\n",
       "      <td>4</td>\n",
       "      <td>1.099167</td>\n",
       "      <td>0.405267</td>\n",
       "      <td>-0.000160</td>\n",
       "      <td>-0.786875</td>\n",
       "      <td>-0.155663</td>\n",
       "      <td>2</td>\n",
       "    </tr>\n",
       "  </tbody>\n",
       "</table>\n",
       "</div>"
      ],
      "text/plain": [
       "        PC1       PC2       PC3       PC4       PC5  cluster_id_km_5\n",
       "0 -2.932859 -0.226304 -0.998855  0.724676 -0.110254                4\n",
       "1  0.460234 -0.283346 -0.044902 -1.299243  0.303274                2\n",
       "2 -0.251213 -0.349803  1.417455 -0.628499  0.107204                0\n",
       "3 -2.989712  1.309269  1.295702  1.451150 -0.531672                4\n",
       "4  1.099167  0.405267 -0.000160 -0.786875 -0.155663                2"
      ]
     },
     "execution_count": 1357,
     "metadata": {},
     "output_type": "execute_result"
    }
   ],
   "source": [
    "\n",
    "df['cluster_id_km_5']=kmeans.labels_\n",
    "pca_df.head()"
   ]
  },
  {
   "cell_type": "markdown",
   "metadata": {},
   "source": [
    "#### Scatterplot of clusters for the first two principal components"
   ]
  },
  {
   "cell_type": "code",
   "execution_count": 1358,
   "metadata": {},
   "outputs": [
    {
     "data": {
      "text/plain": [
       "<matplotlib.axes._subplots.AxesSubplot at 0x19733df7e48>"
      ]
     },
     "execution_count": 1358,
     "metadata": {},
     "output_type": "execute_result"
    },
    {
     "data": {
      "image/png": "[encoded data removed]",
      "text/plain": [
       "<Figure size 432x288 with 1 Axes>"
      ]
     },
     "metadata": {
      "needs_background": "light"
     },
     "output_type": "display_data"
    }
   ],
   "source": [
    "sns.scatterplot(x='PC1',y='PC2',data=pca_df,hue='cluster_id_km_5',palette='rainbow',legend='full')"
   ]
  },
  {
   "cell_type": "code",
   "execution_count": 1359,
   "metadata": {},
   "outputs": [],
   "source": [
    "df=pd.concat([df,y_country],axis=1)"
   ]
  },
  {
   "cell_type": "code",
   "execution_count": 1360,
   "metadata": {},
   "outputs": [],
   "source": [
    "#df[df['cluster_id']==1].to_csv('cluster_1_countries.csv')"
   ]
  },
  {
   "cell_type": "code",
   "execution_count": 1361,
   "metadata": {},
   "outputs": [],
   "source": [
    "#df[df['cluster_id_km_5']==4]"
   ]
  },
  {
   "cell_type": "code",
   "execution_count": 1362,
   "metadata": {},
   "outputs": [
    {
     "data": {
      "text/plain": [
       "2    53\n",
       "0    44\n",
       "4    39\n",
       "3    27\n",
       "1     2\n",
       "Name: cluster_id_km_5, dtype: int64"
      ]
     },
     "execution_count": 1362,
     "metadata": {},
     "output_type": "execute_result"
    }
   ],
   "source": [
    "df['cluster_id_km_5'].value_counts()"
   ]
  },
  {
   "cell_type": "markdown",
   "metadata": {},
   "source": [
    "### K-Means with 3 clusters"
   ]
  },
  {
   "cell_type": "code",
   "execution_count": 1363,
   "metadata": {},
   "outputs": [
    {
     "data": {
      "text/plain": [
       "KMeans(algorithm='auto', copy_x=True, init='k-means++', max_iter=300,\n",
       "       n_clusters=3, n_init=10, n_jobs=None, precompute_distances='auto',\n",
       "       random_state=100, tol=0.0001, verbose=0)"
      ]
     },
     "execution_count": 1363,
     "metadata": {},
     "output_type": "execute_result"
    }
   ],
   "source": [
    "kmeans=KMeans(n_clusters=3,random_state=100)\n",
    "kmeans.fit(pca_df)"
   ]
  },
  {
   "cell_type": "code",
   "execution_count": 1364,
   "metadata": {},
   "outputs": [
    {
     "data": {
      "text/plain": [
       "array([1, 2, 2, 1, 2, 2, 2, 0, 0, 2, 0, 0, 2, 2, 2, 0, 2, 1, 2, 2, 2, 2,\n",
       "       2, 0, 2, 1, 1, 2, 1, 0, 2, 1, 1, 2, 2, 2, 1, 1, 1, 2, 1, 2, 0, 0,\n",
       "       0, 2, 2, 2, 2, 1, 2, 2, 2, 0, 0, 2, 1, 2, 0, 1, 0, 2, 2, 1, 1, 2,\n",
       "       1, 2, 0, 2, 2, 2, 2, 0, 0, 0, 2, 0, 2, 2, 1, 1, 0, 2, 2, 2, 2, 1,\n",
       "       1, 2, 2, 2, 1, 1, 2, 2, 1, 0, 1, 2, 2, 2, 2, 2, 2, 1, 2, 1, 2, 0,\n",
       "       0, 1, 1, 0, 2, 2, 2, 2, 2, 2, 2, 0, 2, 2, 1, 2, 2, 1, 2, 2, 1, 0,\n",
       "       0, 0, 2, 2, 0, 0, 2, 2, 1, 2, 0, 0, 2, 1, 2, 1, 1, 2, 2, 2, 2, 1,\n",
       "       2, 0, 0, 0, 2, 2, 2, 2, 2, 2, 1])"
      ]
     },
     "execution_count": 1364,
     "metadata": {},
     "output_type": "execute_result"
    }
   ],
   "source": [
    "kmeans.labels_"
   ]
  },
  {
   "cell_type": "code",
   "execution_count": 1365,
   "metadata": {},
   "outputs": [],
   "source": [
    "df['cluster_id_km_3']=kmeans.labels_"
   ]
  },
  {
   "cell_type": "code",
   "execution_count": 1366,
   "metadata": {},
   "outputs": [],
   "source": [
    "pca_df['cluster_id_km_3']=kmeans.labels_"
   ]
  },
  {
   "cell_type": "markdown",
   "metadata": {},
   "source": [
    "#### Scatterplot of clusters for the first two principal components"
   ]
  },
  {
   "cell_type": "code",
   "execution_count": 1367,
   "metadata": {},
   "outputs": [
    {
     "data": {
      "text/plain": [
       "<matplotlib.axes._subplots.AxesSubplot at 0x19733e90d88>"
      ]
     },
     "execution_count": 1367,
     "metadata": {},
     "output_type": "execute_result"
    },
    {
     "data": {
      "image/png": "[encoded data removed]",
      "text/plain": [
       "<Figure size 432x288 with 1 Axes>"
      ]
     },
     "metadata": {
      "needs_background": "light"
     },
     "output_type": "display_data"
    }
   ],
   "source": [
    "sns.scatterplot(x='PC1',y='PC2',data=pca_df,hue='cluster_id_km_3',palette='rainbow')"
   ]
  },
  {
   "cell_type": "code",
   "execution_count": 1368,
   "metadata": {},
   "outputs": [],
   "source": [
    "#df.to_csv('2_models_data.csv')"
   ]
  },
  {
   "cell_type": "code",
   "execution_count": 1369,
   "metadata": {},
   "outputs": [],
   "source": [
    "#pca_df"
   ]
  },
  {
   "cell_type": "code",
   "execution_count": 1370,
   "metadata": {},
   "outputs": [],
   "source": [
    "#df['cluster_id_km_5'].value_counts()"
   ]
  },
  {
   "cell_type": "markdown",
   "metadata": {},
   "source": [
    "## Hierarchical clustering\n",
    "\n",
    "We will observe the clusters generated using both the single and complete linkage methods of hierarchical clustering.\n"
   ]
  },
  {
   "cell_type": "markdown",
   "metadata": {},
   "source": [
    "### Single linkage"
   ]
  },
  {
   "cell_type": "code",
   "execution_count": 1371,
   "metadata": {},
   "outputs": [],
   "source": [
    "single_link=linkage(pca_df,method='single',metric='euclidean')"
   ]
  },
  {
   "cell_type": "code",
   "execution_count": 1372,
   "metadata": {},
   "outputs": [
    {
     "data": {
      "image/png": "[encoded data removed]",
      "text/plain": [
       "<Figure size 1440x720 with 1 Axes>"
      ]
     },
     "metadata": {
      "needs_background": "light"
     },
     "output_type": "display_data"
    }
   ],
   "source": [
    "plt.figure(figsize=(20,10))\n",
    "dendrogram(single_link)\n",
    "plt.show()"
   ]
  },
  {
   "cell_type": "code",
   "execution_count": 1373,
   "metadata": {},
   "outputs": [],
   "source": [
    "cluster_labels=cut_tree(single_link,n_clusters=3).reshape(-1,)"
   ]
  },
  {
   "cell_type": "code",
   "execution_count": 1374,
   "metadata": {},
   "outputs": [
    {
     "data": {
      "text/plain": [
       "array([0, 0, 0, 0, 0, 0, 0, 0, 0, 0, 0, 0, 0, 0, 0, 0, 0, 0, 0, 0, 0, 0,\n",
       "       0, 0, 0, 0, 0, 0, 0, 0, 0, 0, 0, 0, 0, 0, 0, 0, 0, 0, 0, 0, 0, 0,\n",
       "       0, 0, 0, 0, 0, 0, 0, 0, 0, 0, 0, 0, 0, 0, 0, 0, 0, 0, 0, 0, 0, 0,\n",
       "       0, 0, 0, 0, 0, 0, 0, 0, 0, 0, 0, 0, 0, 0, 0, 0, 0, 0, 0, 0, 0, 0,\n",
       "       0, 0, 0, 0, 0, 0, 0, 0, 0, 1, 0, 0, 0, 0, 0, 0, 0, 0, 0, 0, 0, 0,\n",
       "       0, 0, 2, 0, 0, 0, 0, 0, 0, 0, 0, 0, 0, 0, 0, 0, 0, 0, 0, 0, 0, 1,\n",
       "       0, 0, 0, 0, 0, 0, 0, 0, 0, 0, 0, 0, 0, 0, 0, 0, 0, 0, 0, 0, 0, 0,\n",
       "       0, 0, 0, 0, 0, 0, 0, 0, 0, 0, 0])"
      ]
     },
     "execution_count": 1374,
     "metadata": {},
     "output_type": "execute_result"
    }
   ],
   "source": [
    "cluster_labels"
   ]
  },
  {
   "cell_type": "code",
   "execution_count": 1375,
   "metadata": {},
   "outputs": [
    {
     "data": {
      "text/plain": [
       "array([0, 0, 0, 0, 0, 0, 0, 0, 0, 0, 0, 0, 0, 0, 0, 0, 0, 0, 0, 0, 0, 0,\n",
       "       0, 0, 0, 0, 0, 0, 0, 0, 0, 0, 0, 0, 0, 0, 0, 0, 0, 0, 0, 0, 0, 0,\n",
       "       0, 0, 0, 0, 0, 0, 0, 0, 0, 0, 0, 0, 0, 0, 0, 0, 0, 0, 0, 0, 0, 0,\n",
       "       0, 0, 0, 0, 0, 0, 0, 0, 0, 0, 0, 0, 0, 0, 0, 0, 0, 0, 0, 0, 0, 0,\n",
       "       0, 0, 0, 0, 0, 0, 0, 0, 0, 1, 0, 0, 0, 0, 0, 0, 0, 0, 0, 0, 0, 0,\n",
       "       0, 0, 2, 0, 0, 0, 0, 0, 0, 0, 0, 0, 0, 0, 0, 0, 0, 0, 0, 0, 0, 3,\n",
       "       0, 0, 0, 0, 0, 0, 0, 0, 0, 0, 0, 0, 0, 0, 0, 0, 0, 0, 0, 0, 0, 0,\n",
       "       0, 0, 0, 0, 0, 0, 0, 0, 0, 0, 0])"
      ]
     },
     "execution_count": 1375,
     "metadata": {},
     "output_type": "execute_result"
    }
   ],
   "source": [
    "cluster_labels_1=cut_tree(single_link,n_clusters=4).reshape(-1,)\n",
    "cluster_labels_1"
   ]
  },
  {
   "cell_type": "code",
   "execution_count": 1376,
   "metadata": {},
   "outputs": [
    {
     "data": {
      "image/png": "[encoded data removed]",
      "text/plain": [
       "<Figure size 1440x720 with 1 Axes>"
      ]
     },
     "metadata": {
      "needs_background": "light"
     },
     "output_type": "display_data"
    }
   ],
   "source": [
    "plt.figure(figsize=(20,10))\n",
    "complete_link=linkage(pca_df,method='complete',metric='euclidean')\n",
    "dendrogram(complete_link)\n",
    "plt.show()"
   ]
  },
  {
   "cell_type": "code",
   "execution_count": 1377,
   "metadata": {},
   "outputs": [],
   "source": [
    "clus_labels=cut_tree(complete_link,n_clusters=3).reshape(-1,)"
   ]
  },
  {
   "cell_type": "code",
   "execution_count": 1378,
   "metadata": {},
   "outputs": [
    {
     "data": {
      "text/plain": [
       "array([0, 0, 0, 0, 0, 0, 0, 0, 0, 0, 0, 0, 0, 0, 0, 0, 0, 0, 0, 0, 0, 0,\n",
       "       0, 0, 0, 0, 0, 0, 0, 0, 0, 0, 0, 0, 0, 0, 0, 0, 0, 0, 0, 0, 0, 0,\n",
       "       0, 0, 0, 0, 0, 0, 0, 0, 0, 0, 0, 0, 0, 0, 0, 0, 0, 0, 0, 0, 0, 0,\n",
       "       0, 0, 0, 0, 0, 0, 0, 0, 0, 0, 0, 0, 0, 0, 0, 0, 0, 0, 0, 0, 0, 0,\n",
       "       0, 0, 0, 0, 0, 0, 0, 0, 0, 1, 0, 0, 0, 0, 0, 0, 0, 0, 0, 0, 0, 0,\n",
       "       0, 0, 2, 0, 0, 0, 0, 0, 0, 0, 0, 0, 0, 0, 0, 0, 0, 0, 0, 0, 0, 1,\n",
       "       0, 0, 0, 0, 0, 0, 0, 0, 0, 0, 0, 0, 0, 0, 0, 0, 0, 0, 0, 0, 0, 0,\n",
       "       0, 0, 0, 0, 0, 0, 0, 0, 0, 0, 0])"
      ]
     },
     "execution_count": 1378,
     "metadata": {},
     "output_type": "execute_result"
    }
   ],
   "source": [
    "clus_labels"
   ]
  },
  {
   "cell_type": "code",
   "execution_count": 1379,
   "metadata": {},
   "outputs": [],
   "source": [
    "df['Cluster_single']=cluster_labels\n",
    "pca_df['Cluster_single']=cluster_labels\n"
   ]
  },
  {
   "cell_type": "code",
   "execution_count": 1380,
   "metadata": {},
   "outputs": [],
   "source": [
    "df['cluster_complete']=clus_labels\n",
    "pca_df['Cluster_complete']=clus_labels"
   ]
  },
  {
   "cell_type": "code",
   "execution_count": 1381,
   "metadata": {},
   "outputs": [],
   "source": [
    "#df.head()"
   ]
  },
  {
   "cell_type": "markdown",
   "metadata": {},
   "source": [
    "#### Scatter plot of hierarchical clustering results from single linkage"
   ]
  },
  {
   "cell_type": "code",
   "execution_count": 1382,
   "metadata": {},
   "outputs": [
    {
     "data": {
      "text/plain": [
       "<matplotlib.axes._subplots.AxesSubplot at 0x19735553648>"
      ]
     },
     "execution_count": 1382,
     "metadata": {},
     "output_type": "execute_result"
    },
    {
     "data": {
      "image/png": "[encoded data removed]",
      "text/plain": [
       "<Figure size 432x288 with 1 Axes>"
      ]
     },
     "metadata": {
      "needs_background": "light"
     },
     "output_type": "display_data"
    }
   ],
   "source": [
    "#### Scatterplot of clusters for the first two principal components\n",
    "sns.scatterplot(x='PC1',y='PC2',data=pca_df,hue='Cluster_single',palette='rainbow')"
   ]
  },
  {
   "cell_type": "markdown",
   "metadata": {},
   "source": [
    "#### Scatter plot of hierarchical clustering results from complete linkage"
   ]
  },
  {
   "cell_type": "code",
   "execution_count": 1383,
   "metadata": {},
   "outputs": [
    {
     "data": {
      "text/plain": [
       "<matplotlib.axes._subplots.AxesSubplot at 0x19735608648>"
      ]
     },
     "execution_count": 1383,
     "metadata": {},
     "output_type": "execute_result"
    },
    {
     "data": {
      "image/png": "[encoded data removed]",
      "text/plain": [
       "<Figure size 432x288 with 1 Axes>"
      ]
     },
     "metadata": {
      "needs_background": "light"
     },
     "output_type": "display_data"
    }
   ],
   "source": [
    "#### Scatterplot of clusters for the first two principal components\n",
    "sns.scatterplot(x='PC1',y='PC2',data=pca_df,hue='Cluster_complete',palette='rainbow')"
   ]
  },
  {
   "cell_type": "markdown",
   "metadata": {},
   "source": [
    "#### Observations:\n",
    "\n",
    "After analysing the clustering results both from K-Means and Hierarchical clustering(both single and complete),we can see that K-Means clustering produced better clusters(more balanced).Hence,considering the output from the K-Means clustering,we can arrive at the final list of countries for the given problem statement."
   ]
  },
  {
   "cell_type": "markdown",
   "metadata": {},
   "source": [
    "#### Cluster Analysis using Original Variables (5 clusters)"
   ]
  },
  {
   "cell_type": "code",
   "execution_count": 1384,
   "metadata": {},
   "outputs": [
    {
     "data": {
      "text/plain": [
       "<matplotlib.axes._subplots.AxesSubplot at 0x1973567a448>"
      ]
     },
     "execution_count": 1384,
     "metadata": {},
     "output_type": "execute_result"
    },
    {
     "data": {
      "image/png": "[encoded data removed]",
      "text/plain": [
       "<Figure size 432x288 with 1 Axes>"
      ]
     },
     "metadata": {
      "needs_background": "light"
     },
     "output_type": "display_data"
    }
   ],
   "source": [
    "sns.boxplot(x='cluster_id_km_5',y='gdpp',data=df)"
   ]
  },
  {
   "cell_type": "code",
   "execution_count": 1385,
   "metadata": {},
   "outputs": [
    {
     "data": {
      "text/plain": [
       "<matplotlib.axes._subplots.AxesSubplot at 0x19733d6efc8>"
      ]
     },
     "execution_count": 1385,
     "metadata": {},
     "output_type": "execute_result"
    },
    {
     "data": {
      "image/png": "[encoded data removed]",
      "text/plain": [
       "<Figure size 432x288 with 1 Axes>"
      ]
     },
     "metadata": {
      "needs_background": "light"
     },
     "output_type": "display_data"
    }
   ],
   "source": [
    "sns.boxplot(x='cluster_id_km_5',y='income',data=df)"
   ]
  },
  {
   "cell_type": "code",
   "execution_count": 1386,
   "metadata": {},
   "outputs": [
    {
     "data": {
      "text/plain": [
       "<matplotlib.axes._subplots.AxesSubplot at 0x1973577c588>"
      ]
     },
     "execution_count": 1386,
     "metadata": {},
     "output_type": "execute_result"
    },
    {
     "data": {
      "image/png": "[encoded data removed]",
      "text/plain": [
       "<Figure size 432x288 with 1 Axes>"
      ]
     },
     "metadata": {
      "needs_background": "light"
     },
     "output_type": "display_data"
    }
   ],
   "source": [
    "sns.boxplot(x='cluster_id_km_5',y='child_mort',data=df)"
   ]
  },
  {
   "cell_type": "markdown",
   "metadata": {},
   "source": [
    "#### Cluster Analysis using Original Variables (3 clusters)"
   ]
  },
  {
   "cell_type": "code",
   "execution_count": 1387,
   "metadata": {},
   "outputs": [
    {
     "data": {
      "text/plain": [
       "<matplotlib.axes._subplots.AxesSubplot at 0x19735b58f88>"
      ]
     },
     "execution_count": 1387,
     "metadata": {},
     "output_type": "execute_result"
    },
    {
     "data": {
      "image/png": "[encoded data removed]",
      "text/plain": [
       "<Figure size 432x288 with 1 Axes>"
      ]
     },
     "metadata": {
      "needs_background": "light"
     },
     "output_type": "display_data"
    }
   ],
   "source": [
    "sns.boxplot(x='cluster_id_km_3',y='gdpp',data=df,palette='rainbow')"
   ]
  },
  {
   "cell_type": "code",
   "execution_count": 1388,
   "metadata": {},
   "outputs": [
    {
     "data": {
      "text/plain": [
       "<matplotlib.axes._subplots.AxesSubplot at 0x19735b88508>"
      ]
     },
     "execution_count": 1388,
     "metadata": {},
     "output_type": "execute_result"
    },
    {
     "data": {
      "image/png": "[encoded data removed]",
      "text/plain": [
       "<Figure size 432x288 with 1 Axes>"
      ]
     },
     "metadata": {
      "needs_background": "light"
     },
     "output_type": "display_data"
    }
   ],
   "source": [
    "sns.boxplot(x='cluster_id_km_3',y='income',data=df,palette='rainbow')"
   ]
  },
  {
   "cell_type": "code",
   "execution_count": 1389,
   "metadata": {},
   "outputs": [
    {
     "data": {
      "text/plain": [
       "<matplotlib.axes._subplots.AxesSubplot at 0x19735c70ac8>"
      ]
     },
     "execution_count": 1389,
     "metadata": {},
     "output_type": "execute_result"
    },
    {
     "data": {
      "image/png": "[encoded data removed]",
      "text/plain": [
       "<Figure size 432x288 with 1 Axes>"
      ]
     },
     "metadata": {
      "needs_background": "light"
     },
     "output_type": "display_data"
    }
   ],
   "source": [
    "sns.boxplot(x='cluster_id_km_3',y='child_mort',data=df,palette='rainbow')"
   ]
  },
  {
   "cell_type": "code",
   "execution_count": 1390,
   "metadata": {},
   "outputs": [
    {
     "data": {
      "text/plain": [
       "2    91\n",
       "1    39\n",
       "0    35\n",
       "Name: cluster_id_km_3, dtype: int64"
      ]
     },
     "execution_count": 1390,
     "metadata": {},
     "output_type": "execute_result"
    }
   ],
   "source": [
    "df['cluster_id_km_3'].value_counts()"
   ]
  },
  {
   "cell_type": "code",
   "execution_count": 1391,
   "metadata": {},
   "outputs": [
    {
     "data": {
      "text/plain": [
       "4    39\n",
       "Name: cluster_id_km_5, dtype: int64"
      ]
     },
     "execution_count": 1391,
     "metadata": {},
     "output_type": "execute_result"
    }
   ],
   "source": [
    "#checking if cluster 1 data from k=3 is exactly same as cluster 4 data from k=5 , and its an exact match\n",
    "df[df['cluster_id_km_3']==1]['cluster_id_km_5'].value_counts()"
   ]
  },
  {
   "cell_type": "markdown",
   "metadata": {},
   "source": [
    "#### Observations:\n",
    "\n",
    "As we have same set of 39 under-developed countries generated using K-means with k=3 and k=5,considering the resultant from k=3 clusters data."
   ]
  },
  {
   "cell_type": "code",
   "execution_count": 1392,
   "metadata": {
    "scrolled": true
   },
   "outputs": [
    {
     "data": {
      "text/html": [
       "<div>\n",
       "<style scoped>\n",
       "    .dataframe tbody tr th:only-of-type {\n",
       "        vertical-align: middle;\n",
       "    }\n",
       "\n",
       "    .dataframe tbody tr th {\n",
       "        vertical-align: top;\n",
       "    }\n",
       "\n",
       "    .dataframe thead th {\n",
       "        text-align: right;\n",
       "    }\n",
       "</style>\n",
       "<table border=\"1\" class=\"dataframe\">\n",
       "  <thead>\n",
       "    <tr style=\"text-align: right;\">\n",
       "      <th></th>\n",
       "      <th>child_mort</th>\n",
       "      <th>exports</th>\n",
       "      <th>health</th>\n",
       "      <th>imports</th>\n",
       "      <th>income</th>\n",
       "      <th>inflation</th>\n",
       "      <th>life_expec</th>\n",
       "      <th>total_fer</th>\n",
       "      <th>gdpp</th>\n",
       "      <th>cluster_id_km_5</th>\n",
       "      <th>country</th>\n",
       "      <th>cluster_id_km_3</th>\n",
       "      <th>Cluster_single</th>\n",
       "      <th>cluster_complete</th>\n",
       "    </tr>\n",
       "  </thead>\n",
       "  <tbody>\n",
       "    <tr>\n",
       "      <td>26</td>\n",
       "      <td>93.6</td>\n",
       "      <td>8.92</td>\n",
       "      <td>11.60</td>\n",
       "      <td>39.2</td>\n",
       "      <td>764</td>\n",
       "      <td>12.300</td>\n",
       "      <td>57.7</td>\n",
       "      <td>6.26</td>\n",
       "      <td>231</td>\n",
       "      <td>4</td>\n",
       "      <td>Burundi</td>\n",
       "      <td>1</td>\n",
       "      <td>0</td>\n",
       "      <td>0</td>\n",
       "    </tr>\n",
       "    <tr>\n",
       "      <td>88</td>\n",
       "      <td>89.3</td>\n",
       "      <td>19.10</td>\n",
       "      <td>11.80</td>\n",
       "      <td>92.6</td>\n",
       "      <td>700</td>\n",
       "      <td>5.470</td>\n",
       "      <td>60.8</td>\n",
       "      <td>5.02</td>\n",
       "      <td>327</td>\n",
       "      <td>4</td>\n",
       "      <td>Liberia</td>\n",
       "      <td>1</td>\n",
       "      <td>0</td>\n",
       "      <td>0</td>\n",
       "    </tr>\n",
       "    <tr>\n",
       "      <td>37</td>\n",
       "      <td>116.0</td>\n",
       "      <td>41.10</td>\n",
       "      <td>7.91</td>\n",
       "      <td>49.6</td>\n",
       "      <td>609</td>\n",
       "      <td>20.800</td>\n",
       "      <td>57.5</td>\n",
       "      <td>6.54</td>\n",
       "      <td>334</td>\n",
       "      <td>4</td>\n",
       "      <td>Congo, Dem. Rep.</td>\n",
       "      <td>1</td>\n",
       "      <td>0</td>\n",
       "      <td>0</td>\n",
       "    </tr>\n",
       "    <tr>\n",
       "      <td>112</td>\n",
       "      <td>123.0</td>\n",
       "      <td>22.20</td>\n",
       "      <td>5.16</td>\n",
       "      <td>49.1</td>\n",
       "      <td>814</td>\n",
       "      <td>2.550</td>\n",
       "      <td>58.8</td>\n",
       "      <td>7.49</td>\n",
       "      <td>348</td>\n",
       "      <td>4</td>\n",
       "      <td>Niger</td>\n",
       "      <td>1</td>\n",
       "      <td>0</td>\n",
       "      <td>0</td>\n",
       "    </tr>\n",
       "    <tr>\n",
       "      <td>132</td>\n",
       "      <td>160.0</td>\n",
       "      <td>16.80</td>\n",
       "      <td>13.10</td>\n",
       "      <td>34.5</td>\n",
       "      <td>1220</td>\n",
       "      <td>17.200</td>\n",
       "      <td>55.0</td>\n",
       "      <td>5.20</td>\n",
       "      <td>399</td>\n",
       "      <td>4</td>\n",
       "      <td>Sierra Leone</td>\n",
       "      <td>1</td>\n",
       "      <td>0</td>\n",
       "      <td>0</td>\n",
       "    </tr>\n",
       "    <tr>\n",
       "      <td>93</td>\n",
       "      <td>62.2</td>\n",
       "      <td>25.00</td>\n",
       "      <td>3.77</td>\n",
       "      <td>43.0</td>\n",
       "      <td>1390</td>\n",
       "      <td>8.790</td>\n",
       "      <td>60.8</td>\n",
       "      <td>4.60</td>\n",
       "      <td>413</td>\n",
       "      <td>4</td>\n",
       "      <td>Madagascar</td>\n",
       "      <td>1</td>\n",
       "      <td>0</td>\n",
       "      <td>0</td>\n",
       "    </tr>\n",
       "    <tr>\n",
       "      <td>106</td>\n",
       "      <td>101.0</td>\n",
       "      <td>31.50</td>\n",
       "      <td>5.21</td>\n",
       "      <td>46.2</td>\n",
       "      <td>918</td>\n",
       "      <td>7.640</td>\n",
       "      <td>54.5</td>\n",
       "      <td>5.56</td>\n",
       "      <td>419</td>\n",
       "      <td>4</td>\n",
       "      <td>Mozambique</td>\n",
       "      <td>1</td>\n",
       "      <td>0</td>\n",
       "      <td>0</td>\n",
       "    </tr>\n",
       "    <tr>\n",
       "      <td>31</td>\n",
       "      <td>149.0</td>\n",
       "      <td>11.80</td>\n",
       "      <td>3.98</td>\n",
       "      <td>26.5</td>\n",
       "      <td>888</td>\n",
       "      <td>2.010</td>\n",
       "      <td>47.5</td>\n",
       "      <td>5.21</td>\n",
       "      <td>446</td>\n",
       "      <td>4</td>\n",
       "      <td>Central African Republic</td>\n",
       "      <td>1</td>\n",
       "      <td>0</td>\n",
       "      <td>0</td>\n",
       "    </tr>\n",
       "    <tr>\n",
       "      <td>94</td>\n",
       "      <td>90.5</td>\n",
       "      <td>22.80</td>\n",
       "      <td>6.59</td>\n",
       "      <td>34.9</td>\n",
       "      <td>1030</td>\n",
       "      <td>12.100</td>\n",
       "      <td>53.1</td>\n",
       "      <td>5.31</td>\n",
       "      <td>459</td>\n",
       "      <td>4</td>\n",
       "      <td>Malawi</td>\n",
       "      <td>1</td>\n",
       "      <td>0</td>\n",
       "      <td>0</td>\n",
       "    </tr>\n",
       "    <tr>\n",
       "      <td>150</td>\n",
       "      <td>90.3</td>\n",
       "      <td>40.20</td>\n",
       "      <td>7.65</td>\n",
       "      <td>57.3</td>\n",
       "      <td>1210</td>\n",
       "      <td>1.180</td>\n",
       "      <td>58.7</td>\n",
       "      <td>4.87</td>\n",
       "      <td>488</td>\n",
       "      <td>4</td>\n",
       "      <td>Togo</td>\n",
       "      <td>1</td>\n",
       "      <td>0</td>\n",
       "      <td>0</td>\n",
       "    </tr>\n",
       "    <tr>\n",
       "      <td>64</td>\n",
       "      <td>114.0</td>\n",
       "      <td>14.90</td>\n",
       "      <td>8.50</td>\n",
       "      <td>35.2</td>\n",
       "      <td>1390</td>\n",
       "      <td>2.970</td>\n",
       "      <td>55.6</td>\n",
       "      <td>5.05</td>\n",
       "      <td>547</td>\n",
       "      <td>4</td>\n",
       "      <td>Guinea-Bissau</td>\n",
       "      <td>1</td>\n",
       "      <td>0</td>\n",
       "      <td>0</td>\n",
       "    </tr>\n",
       "    <tr>\n",
       "      <td>0</td>\n",
       "      <td>90.2</td>\n",
       "      <td>10.00</td>\n",
       "      <td>7.58</td>\n",
       "      <td>44.9</td>\n",
       "      <td>1610</td>\n",
       "      <td>9.440</td>\n",
       "      <td>56.2</td>\n",
       "      <td>5.82</td>\n",
       "      <td>553</td>\n",
       "      <td>4</td>\n",
       "      <td>Afghanistan</td>\n",
       "      <td>1</td>\n",
       "      <td>0</td>\n",
       "      <td>0</td>\n",
       "    </tr>\n",
       "    <tr>\n",
       "      <td>56</td>\n",
       "      <td>80.3</td>\n",
       "      <td>23.80</td>\n",
       "      <td>5.69</td>\n",
       "      <td>42.7</td>\n",
       "      <td>1660</td>\n",
       "      <td>4.300</td>\n",
       "      <td>65.5</td>\n",
       "      <td>5.71</td>\n",
       "      <td>562</td>\n",
       "      <td>4</td>\n",
       "      <td>Gambia</td>\n",
       "      <td>1</td>\n",
       "      <td>0</td>\n",
       "      <td>0</td>\n",
       "    </tr>\n",
       "    <tr>\n",
       "      <td>126</td>\n",
       "      <td>63.6</td>\n",
       "      <td>12.00</td>\n",
       "      <td>10.50</td>\n",
       "      <td>30.0</td>\n",
       "      <td>1350</td>\n",
       "      <td>2.610</td>\n",
       "      <td>64.6</td>\n",
       "      <td>4.51</td>\n",
       "      <td>563</td>\n",
       "      <td>4</td>\n",
       "      <td>Rwanda</td>\n",
       "      <td>1</td>\n",
       "      <td>0</td>\n",
       "      <td>0</td>\n",
       "    </tr>\n",
       "    <tr>\n",
       "      <td>25</td>\n",
       "      <td>116.0</td>\n",
       "      <td>19.20</td>\n",
       "      <td>6.74</td>\n",
       "      <td>29.6</td>\n",
       "      <td>1430</td>\n",
       "      <td>6.810</td>\n",
       "      <td>57.9</td>\n",
       "      <td>5.87</td>\n",
       "      <td>575</td>\n",
       "      <td>4</td>\n",
       "      <td>Burkina Faso</td>\n",
       "      <td>1</td>\n",
       "      <td>0</td>\n",
       "      <td>0</td>\n",
       "    </tr>\n",
       "    <tr>\n",
       "      <td>155</td>\n",
       "      <td>81.0</td>\n",
       "      <td>17.10</td>\n",
       "      <td>9.01</td>\n",
       "      <td>28.6</td>\n",
       "      <td>1540</td>\n",
       "      <td>10.600</td>\n",
       "      <td>56.8</td>\n",
       "      <td>6.15</td>\n",
       "      <td>595</td>\n",
       "      <td>4</td>\n",
       "      <td>Uganda</td>\n",
       "      <td>1</td>\n",
       "      <td>0</td>\n",
       "      <td>0</td>\n",
       "    </tr>\n",
       "    <tr>\n",
       "      <td>63</td>\n",
       "      <td>109.0</td>\n",
       "      <td>30.30</td>\n",
       "      <td>4.93</td>\n",
       "      <td>43.2</td>\n",
       "      <td>1190</td>\n",
       "      <td>16.100</td>\n",
       "      <td>58.0</td>\n",
       "      <td>5.34</td>\n",
       "      <td>648</td>\n",
       "      <td>4</td>\n",
       "      <td>Guinea</td>\n",
       "      <td>1</td>\n",
       "      <td>0</td>\n",
       "      <td>0</td>\n",
       "    </tr>\n",
       "    <tr>\n",
       "      <td>66</td>\n",
       "      <td>208.0</td>\n",
       "      <td>15.30</td>\n",
       "      <td>6.91</td>\n",
       "      <td>64.7</td>\n",
       "      <td>1500</td>\n",
       "      <td>5.450</td>\n",
       "      <td>32.1</td>\n",
       "      <td>3.33</td>\n",
       "      <td>662</td>\n",
       "      <td>4</td>\n",
       "      <td>Haiti</td>\n",
       "      <td>1</td>\n",
       "      <td>0</td>\n",
       "      <td>0</td>\n",
       "    </tr>\n",
       "    <tr>\n",
       "      <td>147</td>\n",
       "      <td>71.9</td>\n",
       "      <td>18.70</td>\n",
       "      <td>6.01</td>\n",
       "      <td>29.1</td>\n",
       "      <td>2090</td>\n",
       "      <td>9.250</td>\n",
       "      <td>59.3</td>\n",
       "      <td>5.43</td>\n",
       "      <td>702</td>\n",
       "      <td>4</td>\n",
       "      <td>Tanzania</td>\n",
       "      <td>1</td>\n",
       "      <td>0</td>\n",
       "      <td>0</td>\n",
       "    </tr>\n",
       "    <tr>\n",
       "      <td>97</td>\n",
       "      <td>137.0</td>\n",
       "      <td>22.80</td>\n",
       "      <td>4.98</td>\n",
       "      <td>35.1</td>\n",
       "      <td>1870</td>\n",
       "      <td>4.370</td>\n",
       "      <td>59.5</td>\n",
       "      <td>6.55</td>\n",
       "      <td>708</td>\n",
       "      <td>4</td>\n",
       "      <td>Mali</td>\n",
       "      <td>1</td>\n",
       "      <td>0</td>\n",
       "      <td>0</td>\n",
       "    </tr>\n",
       "    <tr>\n",
       "      <td>17</td>\n",
       "      <td>111.0</td>\n",
       "      <td>23.80</td>\n",
       "      <td>4.10</td>\n",
       "      <td>37.2</td>\n",
       "      <td>1820</td>\n",
       "      <td>0.885</td>\n",
       "      <td>61.8</td>\n",
       "      <td>5.36</td>\n",
       "      <td>758</td>\n",
       "      <td>4</td>\n",
       "      <td>Benin</td>\n",
       "      <td>1</td>\n",
       "      <td>0</td>\n",
       "      <td>0</td>\n",
       "    </tr>\n",
       "    <tr>\n",
       "      <td>36</td>\n",
       "      <td>88.2</td>\n",
       "      <td>16.50</td>\n",
       "      <td>4.51</td>\n",
       "      <td>51.7</td>\n",
       "      <td>1410</td>\n",
       "      <td>3.870</td>\n",
       "      <td>65.9</td>\n",
       "      <td>4.75</td>\n",
       "      <td>769</td>\n",
       "      <td>4</td>\n",
       "      <td>Comoros</td>\n",
       "      <td>1</td>\n",
       "      <td>0</td>\n",
       "      <td>0</td>\n",
       "    </tr>\n",
       "    <tr>\n",
       "      <td>32</td>\n",
       "      <td>150.0</td>\n",
       "      <td>36.80</td>\n",
       "      <td>4.53</td>\n",
       "      <td>43.5</td>\n",
       "      <td>1930</td>\n",
       "      <td>6.390</td>\n",
       "      <td>56.5</td>\n",
       "      <td>6.59</td>\n",
       "      <td>897</td>\n",
       "      <td>4</td>\n",
       "      <td>Chad</td>\n",
       "      <td>1</td>\n",
       "      <td>0</td>\n",
       "      <td>0</td>\n",
       "    </tr>\n",
       "    <tr>\n",
       "      <td>80</td>\n",
       "      <td>62.2</td>\n",
       "      <td>20.70</td>\n",
       "      <td>4.75</td>\n",
       "      <td>33.6</td>\n",
       "      <td>2480</td>\n",
       "      <td>2.090</td>\n",
       "      <td>62.8</td>\n",
       "      <td>4.37</td>\n",
       "      <td>967</td>\n",
       "      <td>4</td>\n",
       "      <td>Kenya</td>\n",
       "      <td>1</td>\n",
       "      <td>0</td>\n",
       "      <td>0</td>\n",
       "    </tr>\n",
       "    <tr>\n",
       "      <td>129</td>\n",
       "      <td>66.8</td>\n",
       "      <td>24.90</td>\n",
       "      <td>5.66</td>\n",
       "      <td>40.3</td>\n",
       "      <td>2180</td>\n",
       "      <td>1.850</td>\n",
       "      <td>64.0</td>\n",
       "      <td>5.06</td>\n",
       "      <td>1000</td>\n",
       "      <td>4</td>\n",
       "      <td>Senegal</td>\n",
       "      <td>1</td>\n",
       "      <td>0</td>\n",
       "      <td>0</td>\n",
       "    </tr>\n",
       "    <tr>\n",
       "      <td>87</td>\n",
       "      <td>99.7</td>\n",
       "      <td>39.40</td>\n",
       "      <td>11.10</td>\n",
       "      <td>101.0</td>\n",
       "      <td>2380</td>\n",
       "      <td>4.150</td>\n",
       "      <td>46.5</td>\n",
       "      <td>3.30</td>\n",
       "      <td>1170</td>\n",
       "      <td>4</td>\n",
       "      <td>Lesotho</td>\n",
       "      <td>1</td>\n",
       "      <td>0</td>\n",
       "      <td>0</td>\n",
       "    </tr>\n",
       "    <tr>\n",
       "      <td>99</td>\n",
       "      <td>97.4</td>\n",
       "      <td>50.70</td>\n",
       "      <td>4.41</td>\n",
       "      <td>61.2</td>\n",
       "      <td>3320</td>\n",
       "      <td>18.900</td>\n",
       "      <td>68.2</td>\n",
       "      <td>4.98</td>\n",
       "      <td>1200</td>\n",
       "      <td>4</td>\n",
       "      <td>Mauritania</td>\n",
       "      <td>1</td>\n",
       "      <td>0</td>\n",
       "      <td>0</td>\n",
       "    </tr>\n",
       "    <tr>\n",
       "      <td>40</td>\n",
       "      <td>111.0</td>\n",
       "      <td>50.60</td>\n",
       "      <td>5.30</td>\n",
       "      <td>43.3</td>\n",
       "      <td>2690</td>\n",
       "      <td>5.390</td>\n",
       "      <td>56.3</td>\n",
       "      <td>5.27</td>\n",
       "      <td>1220</td>\n",
       "      <td>4</td>\n",
       "      <td>Cote d'Ivoire</td>\n",
       "      <td>1</td>\n",
       "      <td>0</td>\n",
       "      <td>0</td>\n",
       "    </tr>\n",
       "    <tr>\n",
       "      <td>28</td>\n",
       "      <td>108.0</td>\n",
       "      <td>22.20</td>\n",
       "      <td>5.13</td>\n",
       "      <td>27.0</td>\n",
       "      <td>2660</td>\n",
       "      <td>1.910</td>\n",
       "      <td>57.3</td>\n",
       "      <td>5.11</td>\n",
       "      <td>1310</td>\n",
       "      <td>4</td>\n",
       "      <td>Cameroon</td>\n",
       "      <td>1</td>\n",
       "      <td>0</td>\n",
       "      <td>0</td>\n",
       "    </tr>\n",
       "    <tr>\n",
       "      <td>59</td>\n",
       "      <td>74.7</td>\n",
       "      <td>29.50</td>\n",
       "      <td>5.22</td>\n",
       "      <td>45.9</td>\n",
       "      <td>3060</td>\n",
       "      <td>16.600</td>\n",
       "      <td>62.2</td>\n",
       "      <td>4.27</td>\n",
       "      <td>1310</td>\n",
       "      <td>4</td>\n",
       "      <td>Ghana</td>\n",
       "      <td>1</td>\n",
       "      <td>0</td>\n",
       "      <td>0</td>\n",
       "    </tr>\n",
       "    <tr>\n",
       "      <td>166</td>\n",
       "      <td>83.1</td>\n",
       "      <td>37.00</td>\n",
       "      <td>5.89</td>\n",
       "      <td>30.9</td>\n",
       "      <td>3280</td>\n",
       "      <td>14.000</td>\n",
       "      <td>52.0</td>\n",
       "      <td>5.40</td>\n",
       "      <td>1460</td>\n",
       "      <td>4</td>\n",
       "      <td>Zambia</td>\n",
       "      <td>1</td>\n",
       "      <td>0</td>\n",
       "      <td>0</td>\n",
       "    </tr>\n",
       "    <tr>\n",
       "      <td>142</td>\n",
       "      <td>76.7</td>\n",
       "      <td>19.70</td>\n",
       "      <td>6.32</td>\n",
       "      <td>17.2</td>\n",
       "      <td>3370</td>\n",
       "      <td>19.600</td>\n",
       "      <td>66.3</td>\n",
       "      <td>4.88</td>\n",
       "      <td>1480</td>\n",
       "      <td>4</td>\n",
       "      <td>Sudan</td>\n",
       "      <td>1</td>\n",
       "      <td>0</td>\n",
       "      <td>0</td>\n",
       "    </tr>\n",
       "    <tr>\n",
       "      <td>81</td>\n",
       "      <td>62.7</td>\n",
       "      <td>13.30</td>\n",
       "      <td>11.30</td>\n",
       "      <td>79.9</td>\n",
       "      <td>1730</td>\n",
       "      <td>1.520</td>\n",
       "      <td>60.7</td>\n",
       "      <td>3.84</td>\n",
       "      <td>1490</td>\n",
       "      <td>4</td>\n",
       "      <td>Kiribati</td>\n",
       "      <td>1</td>\n",
       "      <td>0</td>\n",
       "      <td>0</td>\n",
       "    </tr>\n",
       "    <tr>\n",
       "      <td>113</td>\n",
       "      <td>130.0</td>\n",
       "      <td>25.30</td>\n",
       "      <td>5.07</td>\n",
       "      <td>17.4</td>\n",
       "      <td>5150</td>\n",
       "      <td>104.000</td>\n",
       "      <td>60.5</td>\n",
       "      <td>5.84</td>\n",
       "      <td>2330</td>\n",
       "      <td>4</td>\n",
       "      <td>Nigeria</td>\n",
       "      <td>1</td>\n",
       "      <td>2</td>\n",
       "      <td>2</td>\n",
       "    </tr>\n",
       "    <tr>\n",
       "      <td>38</td>\n",
       "      <td>63.9</td>\n",
       "      <td>85.10</td>\n",
       "      <td>2.46</td>\n",
       "      <td>54.7</td>\n",
       "      <td>5190</td>\n",
       "      <td>20.700</td>\n",
       "      <td>60.4</td>\n",
       "      <td>4.95</td>\n",
       "      <td>2740</td>\n",
       "      <td>4</td>\n",
       "      <td>Congo, Rep.</td>\n",
       "      <td>1</td>\n",
       "      <td>0</td>\n",
       "      <td>0</td>\n",
       "    </tr>\n",
       "    <tr>\n",
       "      <td>3</td>\n",
       "      <td>119.0</td>\n",
       "      <td>62.30</td>\n",
       "      <td>2.85</td>\n",
       "      <td>42.9</td>\n",
       "      <td>5900</td>\n",
       "      <td>22.400</td>\n",
       "      <td>60.1</td>\n",
       "      <td>6.16</td>\n",
       "      <td>3530</td>\n",
       "      <td>4</td>\n",
       "      <td>Angola</td>\n",
       "      <td>1</td>\n",
       "      <td>0</td>\n",
       "      <td>0</td>\n",
       "    </tr>\n",
       "    <tr>\n",
       "      <td>149</td>\n",
       "      <td>62.6</td>\n",
       "      <td>2.20</td>\n",
       "      <td>9.12</td>\n",
       "      <td>27.8</td>\n",
       "      <td>1850</td>\n",
       "      <td>26.500</td>\n",
       "      <td>71.1</td>\n",
       "      <td>6.23</td>\n",
       "      <td>3600</td>\n",
       "      <td>4</td>\n",
       "      <td>Timor-Leste</td>\n",
       "      <td>1</td>\n",
       "      <td>0</td>\n",
       "      <td>0</td>\n",
       "    </tr>\n",
       "    <tr>\n",
       "      <td>108</td>\n",
       "      <td>56.0</td>\n",
       "      <td>47.80</td>\n",
       "      <td>6.78</td>\n",
       "      <td>60.7</td>\n",
       "      <td>8460</td>\n",
       "      <td>3.560</td>\n",
       "      <td>58.6</td>\n",
       "      <td>3.60</td>\n",
       "      <td>5190</td>\n",
       "      <td>4</td>\n",
       "      <td>Namibia</td>\n",
       "      <td>1</td>\n",
       "      <td>0</td>\n",
       "      <td>0</td>\n",
       "    </tr>\n",
       "    <tr>\n",
       "      <td>49</td>\n",
       "      <td>111.0</td>\n",
       "      <td>85.80</td>\n",
       "      <td>4.48</td>\n",
       "      <td>58.9</td>\n",
       "      <td>33700</td>\n",
       "      <td>24.900</td>\n",
       "      <td>60.9</td>\n",
       "      <td>5.21</td>\n",
       "      <td>17100</td>\n",
       "      <td>4</td>\n",
       "      <td>Equatorial Guinea</td>\n",
       "      <td>1</td>\n",
       "      <td>0</td>\n",
       "      <td>0</td>\n",
       "    </tr>\n",
       "  </tbody>\n",
       "</table>\n",
       "</div>"
      ],
      "text/plain": [
       "     child_mort  exports  health  imports  income  inflation  life_expec  \\\n",
       "26         93.6     8.92   11.60     39.2     764     12.300        57.7   \n",
       "88         89.3    19.10   11.80     92.6     700      5.470        60.8   \n",
       "37        116.0    41.10    7.91     49.6     609     20.800        57.5   \n",
       "112       123.0    22.20    5.16     49.1     814      2.550        58.8   \n",
       "132       160.0    16.80   13.10     34.5    1220     17.200        55.0   \n",
       "93         62.2    25.00    3.77     43.0    1390      8.790        60.8   \n",
       "106       101.0    31.50    5.21     46.2     918      7.640        54.5   \n",
       "31        149.0    11.80    3.98     26.5     888      2.010        47.5   \n",
       "94         90.5    22.80    6.59     34.9    1030     12.100        53.1   \n",
       "150        90.3    40.20    7.65     57.3    1210      1.180        58.7   \n",
       "64        114.0    14.90    8.50     35.2    1390      2.970        55.6   \n",
       "0          90.2    10.00    7.58     44.9    1610      9.440        56.2   \n",
       "56         80.3    23.80    5.69     42.7    1660      4.300        65.5   \n",
       "126        63.6    12.00   10.50     30.0    1350      2.610        64.6   \n",
       "25        116.0    19.20    6.74     29.6    1430      6.810        57.9   \n",
       "155        81.0    17.10    9.01     28.6    1540     10.600        56.8   \n",
       "63        109.0    30.30    4.93     43.2    1190     16.100        58.0   \n",
       "66        208.0    15.30    6.91     64.7    1500      5.450        32.1   \n",
       "147        71.9    18.70    6.01     29.1    2090      9.250        59.3   \n",
       "97        137.0    22.80    4.98     35.1    1870      4.370        59.5   \n",
       "17        111.0    23.80    4.10     37.2    1820      0.885        61.8   \n",
       "36         88.2    16.50    4.51     51.7    1410      3.870        65.9   \n",
       "32        150.0    36.80    4.53     43.5    1930      6.390        56.5   \n",
       "80         62.2    20.70    4.75     33.6    2480      2.090        62.8   \n",
       "129        66.8    24.90    5.66     40.3    2180      1.850        64.0   \n",
       "87         99.7    39.40   11.10    101.0    2380      4.150        46.5   \n",
       "99         97.4    50.70    4.41     61.2    3320     18.900        68.2   \n",
       "40        111.0    50.60    5.30     43.3    2690      5.390        56.3   \n",
       "28        108.0    22.20    5.13     27.0    2660      1.910        57.3   \n",
       "59         74.7    29.50    5.22     45.9    3060     16.600        62.2   \n",
       "166        83.1    37.00    5.89     30.9    3280     14.000        52.0   \n",
       "142        76.7    19.70    6.32     17.2    3370     19.600        66.3   \n",
       "81         62.7    13.30   11.30     79.9    1730      1.520        60.7   \n",
       "113       130.0    25.30    5.07     17.4    5150    104.000        60.5   \n",
       "38         63.9    85.10    2.46     54.7    5190     20.700        60.4   \n",
       "3         119.0    62.30    2.85     42.9    5900     22.400        60.1   \n",
       "149        62.6     2.20    9.12     27.8    1850     26.500        71.1   \n",
       "108        56.0    47.80    6.78     60.7    8460      3.560        58.6   \n",
       "49        111.0    85.80    4.48     58.9   33700     24.900        60.9   \n",
       "\n",
       "     total_fer   gdpp  cluster_id_km_5                   country  \\\n",
       "26        6.26    231                4                   Burundi   \n",
       "88        5.02    327                4                   Liberia   \n",
       "37        6.54    334                4          Congo, Dem. Rep.   \n",
       "112       7.49    348                4                     Niger   \n",
       "132       5.20    399                4              Sierra Leone   \n",
       "93        4.60    413                4                Madagascar   \n",
       "106       5.56    419                4                Mozambique   \n",
       "31        5.21    446                4  Central African Republic   \n",
       "94        5.31    459                4                    Malawi   \n",
       "150       4.87    488                4                      Togo   \n",
       "64        5.05    547                4             Guinea-Bissau   \n",
       "0         5.82    553                4               Afghanistan   \n",
       "56        5.71    562                4                    Gambia   \n",
       "126       4.51    563                4                    Rwanda   \n",
       "25        5.87    575                4              Burkina Faso   \n",
       "155       6.15    595                4                    Uganda   \n",
       "63        5.34    648                4                    Guinea   \n",
       "66        3.33    662                4                     Haiti   \n",
       "147       5.43    702                4                  Tanzania   \n",
       "97        6.55    708                4                      Mali   \n",
       "17        5.36    758                4                     Benin   \n",
       "36        4.75    769                4                   Comoros   \n",
       "32        6.59    897                4                      Chad   \n",
       "80        4.37    967                4                     Kenya   \n",
       "129       5.06   1000                4                   Senegal   \n",
       "87        3.30   1170                4                   Lesotho   \n",
       "99        4.98   1200                4                Mauritania   \n",
       "40        5.27   1220                4             Cote d'Ivoire   \n",
       "28        5.11   1310                4                  Cameroon   \n",
       "59        4.27   1310                4                     Ghana   \n",
       "166       5.40   1460                4                    Zambia   \n",
       "142       4.88   1480                4                     Sudan   \n",
       "81        3.84   1490                4                  Kiribati   \n",
       "113       5.84   2330                4                   Nigeria   \n",
       "38        4.95   2740                4               Congo, Rep.   \n",
       "3         6.16   3530                4                    Angola   \n",
       "149       6.23   3600                4               Timor-Leste   \n",
       "108       3.60   5190                4                   Namibia   \n",
       "49        5.21  17100                4         Equatorial Guinea   \n",
       "\n",
       "     cluster_id_km_3  Cluster_single  cluster_complete  \n",
       "26                 1               0                 0  \n",
       "88                 1               0                 0  \n",
       "37                 1               0                 0  \n",
       "112                1               0                 0  \n",
       "132                1               0                 0  \n",
       "93                 1               0                 0  \n",
       "106                1               0                 0  \n",
       "31                 1               0                 0  \n",
       "94                 1               0                 0  \n",
       "150                1               0                 0  \n",
       "64                 1               0                 0  \n",
       "0                  1               0                 0  \n",
       "56                 1               0                 0  \n",
       "126                1               0                 0  \n",
       "25                 1               0                 0  \n",
       "155                1               0                 0  \n",
       "63                 1               0                 0  \n",
       "66                 1               0                 0  \n",
       "147                1               0                 0  \n",
       "97                 1               0                 0  \n",
       "17                 1               0                 0  \n",
       "36                 1               0                 0  \n",
       "32                 1               0                 0  \n",
       "80                 1               0                 0  \n",
       "129                1               0                 0  \n",
       "87                 1               0                 0  \n",
       "99                 1               0                 0  \n",
       "40                 1               0                 0  \n",
       "28                 1               0                 0  \n",
       "59                 1               0                 0  \n",
       "166                1               0                 0  \n",
       "142                1               0                 0  \n",
       "81                 1               0                 0  \n",
       "113                1               2                 2  \n",
       "38                 1               0                 0  \n",
       "3                  1               0                 0  \n",
       "149                1               0                 0  \n",
       "108                1               0                 0  \n",
       "49                 1               0                 0  "
      ]
     },
     "execution_count": 1392,
     "metadata": {},
     "output_type": "execute_result"
    }
   ],
   "source": [
    "## selecting top 5 countries\n",
    "\n",
    "df[df['cluster_id_km_3']==1].sort_values(['gdpp','income','child_mort'],ascending=[True,True,False])"
   ]
  },
  {
   "cell_type": "markdown",
   "metadata": {},
   "source": [
    "### Final list of countries"
   ]
  },
  {
   "cell_type": "markdown",
   "metadata": {},
   "source": [
    "From the 39 countries which are in need of aid,considering the top 5 countries based on low income,gdpp and high child mortality rate,we arrive at the following.\n",
    "\n",
    "1.Burundi<br>\n",
    "2.Liberia<br>\n",
    "3.Congo, Dem. Rep.<br>\n",
    "4.Niger<br>\n",
    "5.Sierra Leone<br>\n"
   ]
  }
 ],
 "metadata": {
  "kernelspec": {
   "display_name": "Python 3",
   "language": "python",
   "name": "python3"
  },
  "language_info": {
   "codemirror_mode": {
    "name": "ipython",
    "version": 3
   },
   "file_extension": ".py",
   "mimetype": "text/x-python",
   "name": "python",
   "nbconvert_exporter": "python",
   "pygments_lexer": "ipython3",
   "version": "3.7.4"
  }
 },
 "nbformat": 4,
 "nbformat_minor": 2
}
